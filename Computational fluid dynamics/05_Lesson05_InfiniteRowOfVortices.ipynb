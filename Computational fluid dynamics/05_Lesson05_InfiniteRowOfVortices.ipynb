{
 "cells": [
  {
   "cell_type": "raw",
   "metadata": {},
   "source": [
    "Текст и код распространюется на условиях лицензии Creative Commons Attribution license, CC-BY. (c) Lorena A. Barba, Olivier Mesnard, 2014. Благодарности: NSF for support via CAREER award #1149784.\n",
    "Перевод (c)2018 Innokentiy Kursakov"
   ]
  },
  {
   "cell_type": "markdown",
   "metadata": {},
   "source": [
    "##### Версия 0.1 -- Январь 2018"
   ]
  },
  {
   "cell_type": "markdown",
   "metadata": {},
   "source": [
    "# Бесконечная цепочка вихрей"
   ]
  },
  {
   "cell_type": "markdown",
   "metadata": {},
   "source": [
    "Цель этого задания — визуализация обтекания  бесконечной цепочки вихрей. Сначала рассмотрим случай конечной цепочки вихрей, полученную простой суперпозицией изолированных вихрей. Добавляя вихри, можно увидеть как будет меняться картина течения, по мере приближения к предельному случаю бесконечной цепочки. Но при этом некотые отличия будут присутствовать.\n",
    "\n",
    "Можно вывести аналитическое выражение для бесконечного случая, такой вывод приводится ниже. С помощью этого аналитического выражения можно визуализировать линии тока для бесконечного случая. Сравните две картины течений и подумайте, чем они отличаются друг от друга?\n",
    "\n",
    "\n",
    "В этом блокноте нет ячеек с кодом. Ваша задача — изучить теорию (проделав все математические выкладки самостоятельно на листе бумаги); подумать, как наиболее эффективно реализовать полученные соотношения; и, наконец, написать код для визуализации результатов."
   ]
  },
  {
   "cell_type": "markdown",
   "metadata": {},
   "source": [
    "## Изолированный вихрь (предыдущее занятие)"
   ]
  },
  {
   "cell_type": "markdown",
   "metadata": {},
   "source": [
    "Вы можете не подозревать этого, но вихрь играет очень важную роль в классической аэродинамической теории. В этом задании вы откроете для себя некоторые особенности.\n",
    "\n",
    "Для начала освежим пройденнное. Как мы узнали на прошлом занятии, вихрь с интенсивностью $\\Gamma$ описывается функцией тока:\n",
    "\n",
    "$$\\psi\\left(r,\\theta\\right) = \\frac{\\Gamma}{2\\pi}\\ln r$$\n",
    "\n",
    "и потенциалом скорости\n",
    "\n",
    "$$\\phi\\left(r,\\theta\\right) = -\\frac{\\Gamma}{2\\pi}\\theta$$\n",
    "\n",
    "Компоненты скорости в полярной системе координат записываются в виде\n",
    "\n",
    "$$u_r\\left(r,\\theta\\right) = 0$$\n",
    "\n",
    "$$u_\\theta\\left(r,\\theta\\right) = -\\frac{\\Gamma}{2\\pi r}$$"
   ]
  },
  {
   "cell_type": "markdown",
   "metadata": {},
   "source": [
    "В декартовых координатах $\\left(x,y\\right)$  компоненты скорости для вихря с интенсивности  $\\Gamma$, расположенного в $\\left(x_\\text{vortex},y_\\text{vortex}\\right)$, задаются соотношениями\n",
    "\n",
    "$$u\\left(x,y\\right) = +\\frac{\\Gamma}{2\\pi}\\frac{y-y_\\text{vortex}}{(x-x_\\text{vortex})^2+(y-y_\\text{vortex})^2}$$\n",
    "\n",
    "$$v\\left(x,y\\right) = -\\frac{\\Gamma}{2\\pi}\\frac{x-x_\\text{vortex}}{(x-x_\\text{vortex})^2+(y-y_\\text{vortex})^2}$$\n",
    "\n",
    "а функция тока записывается в виде\n",
    "\n",
    "$$\\psi\\left(x,y\\right) = \\frac{\\Gamma}{4\\pi}\\ln\\left((x-x_\\text{vortex})^2+(y-y_\\text{vortex})^2\\right)$$"
   ]
  },
  {
   "cell_type": "markdown",
   "metadata": {},
   "source": [
    "## Суперпозиция нескольких вихрей"
   ]
  },
  {
   "cell_type": "markdown",
   "metadata": {},
   "source": [
    "В этом задании мы рассмотрим важный пример для иллюстрации понятие *вихревая пелена*: бесконечную цепочку вихрей одинаковой интенсивности $\\Gamma$, равномерно распределенных по оси $x$ с интервалом $a$. Но начнем мы с конечного ряда вихрей.\n",
    "\n",
    "\n",
    "Функция тока $i-го$ вихря $\\psi_i$ на расстоянии $r_i$ равна\n",
    "\n",
    "$$\\psi_i = \\frac{\\Gamma}{2\\pi}\\ln r_i$$\n",
    "\n",
    "Согласно принципу суперпозиции, функция тока для $N$ вихрей запишется в виде:\n",
    "\n",
    "$$\\psi = \\frac{\\Gamma}{2\\pi} \\sum_{i=1}^N \\ln r_i$$\n",
    "\n",
    "А поле скорости в декартовых координатах  для цепочки вихрей задается выражениями:\n",
    "\n",
    "$$u\\left(x,y\\right) = + \\frac{\\Gamma}{2\\pi} \\sum_{i=1}^N \\frac{y-y_i}{(x-x_i)^2+(y-y_i)^2}$$\n",
    "\n",
    "$$v\\left(x,y\\right) = - \\frac{\\Gamma}{2\\pi} \\sum_{i=1}^N \\frac{x-x_i}{(x-x_i)^2+(y-y_i)^2}$$\n",
    "\n",
    "где $\\left(x_i,y_i\\right)$ — декартовы координаты $i-{\\text{го}}$ вихря.\n",
    "\n",
    "Вот схема, поясняющая, что где находится:\n",
    "\n",
    "\n",
    "<center>![image](files/resources/infiniteRowVorticesSketch.png)</center>\n",
    "\n",
    "\n",
    "В следующем разделе мы покажем, как вывести аналитическое выражение для *бесконечной* суммы вихрей. Потерпите."
   ]
  },
  {
   "cell_type": "markdown",
   "metadata": {},
   "source": [
    "---"
   ]
  },
  {
   "cell_type": "markdown",
   "metadata": {},
   "source": [
    "##### Задача:\n",
    "\n",
    "#### Вычислить поле скорости и нарисовать линии тока для цепочки вихрей."
   ]
  },
  {
   "cell_type": "markdown",
   "metadata": {},
   "source": [
    "Поместите $N$ вихрей на горизонтальную ось и визуализируйте картину течения.  Выполните следующие действия:\n",
    "\n",
    "* С помощью уравнений, полученных выше, вычислите компоненты скорости каждого вихря в узлах расчетной сетки.\n",
    "\n",
    "* Помните, что конечное количество вихрей можно  представить с помощью списка *list* или массива NumPy *array*. Подумайте и решите, какой из них использовать.\n",
    "\n",
    "* Определите функции, чтобы избежать повторения кода (можете также использовать классы, если вам так удобнее и привычнее).\n",
    "\n",
    "* После того, как вы получите скорости, примените принцип суперпозиции и нарисуйте получившееся поле.\n",
    "\n",
    "* Поэкспериментируйте с размерами цепочки вихрей и диапазоном рисунка. Сделайте свой иллюстрацию публикуемого качества!\n",
    "\n",
    "В конце концов вы должны получить нечто похожее на это:\n",
    "\n",
    "<center>![image](files/resources/infiniteRowVortices.png)</center>"
   ]
  },
  {
   "cell_type": "markdown",
   "metadata": {},
   "source": [
    "---"
   ]
  },
  {
   "cell_type": "markdown",
   "metadata": {},
   "source": [
    "## Бесконечная цепочка вихрей"
   ]
  },
  {
   "cell_type": "markdown",
   "metadata": {},
   "source": [
    "Для вывода аналитических зависимотсей воспользуемся комплексным представлением:\n",
    "\n",
    "$$z = x + jy$$\n",
    "\n",
    "где $j^2=-1$. Для мнимой единицы обычно используется обозначение $i$, но его можно спутать с обозначением индекса.\n",
    "\n",
    "Комплексный потенциал определяется как $w = \\phi + j\\psi$, где $\\phi$ — потенциал скоростей, а $\\psi$ — функция тока. Если продифференцировать комплексный потенциал $w$ по переменной $z$, получим комплексную скорость\n",
    "\n",
    "$$\\frac{dw}{dz} = u-jv$$\n",
    "\n",
    "где $u$ и $v$ — декартовы компоненты вектора скорости.\n",
    "\n",
    "Комплексный потенциал описывающий вихрь интенсивности $\\Gamma$, расположенный в начале координат — \n",
    "\n",
    "$$w = \\frac{j\\Gamma}{2\\pi}\\ln z$$\n",
    "\n",
    "Почему?\n",
    "\n",
    "Так как $z=re^{j\\theta}$  и $w$ преобразуется в\n",
    "\n",
    "$$w = -\\frac{\\Gamma}{2\\pi}\\theta + j\\frac{\\Gamma}{2\\pi}\\ln r = \\phi + j\\psi$$\n",
    "\n",
    "Рассмотрим второй вихрь, расположенный в точке $\\left(a,0\\right)$ с той же интенсивностью $\\Gamma$. Его комплексный потенциал:\n",
    "\n",
    "$$w = \\frac{j\\Gamma}{2\\pi}\\ln \\left(z-a\\right)$$\n",
    "\n",
    "Следующий вихрь, расположенный еще на $a$ дальше, будет иметь потенциал \n",
    "\n",
    "$$w = \\frac{j\\Gamma}{2\\pi}\\ln \\left(z-2a\\right)$$\n",
    "\n",
    "и так далее...\n",
    "\n",
    "Таким образом, комплексный потенциал, соответствующий бесконечной цепочке вихрей (на линии $y = $0), задается\n",
    "\n",
    "$$w = \\frac{j\\Gamma}{2\\pi}\\sum_{m=-\\infty}^{+\\infty} \\ln \\left( z-ma \\right)$$\n",
    "\n",
    "Когда в предыдущих блокнотах мы интегрировали компоненты скорости, чтобы найти функцию тока и потенциал, то отбрасывали константу интегрирования. А теперь, наоборот, добавим константу, но не произвольную! Почему бы и нет, вель обратное дифференцирование даст те же результаты.\n",
    "\n",
    "$$w = \\frac{j\\Gamma}{2\\pi}\\sum_{m=-\\infty}^{+\\infty} \\ln \\left( z-ma \\right) + \\text{constant}$$\n",
    "\n",
    "где\n",
    "\n",
    "$$\\text{constant} = -\\frac{j\\Gamma}{2\\pi} \\sum_{m=-\\infty, m\\neq 0}^{+\\infty} \\ln \\left( -ma \\right)$$\n",
    "\n",
    "так что, комплексный потенциал можно представить в следующем виде\n",
    "\n",
    "$$w = \\frac{j\\Gamma}{2\\pi}\\sum_{m=-\\infty,m\\neq 0}^{+\\infty} \\ln \\left( \\frac{z-ma}{-ma} \\right) + \\frac{j\\Gamma}{2\\pi}\\ln z$$\n",
    "\n",
    "Теперь пришло время поупражняться в математике.\n",
    "\n",
    "$$w = \\frac{j\\Gamma}{2\\pi}\\sum_{m=-\\infty,m\\neq 0}^{+\\infty} \\ln \\left( 1-\\frac{z}{ma} \\right) + \\frac{j\\Gamma}{2\\pi}\\ln z$$\n",
    "\n",
    "$$w = \\frac{j\\Gamma}{2\\pi}\\sum_{m=1}^{+\\infty} \\left\\lbrace \\ln\\left(1-\\frac{z}{ma}\\right) + \\ln\\left(1+\\frac{z}{ma}\\right) \\right\\rbrace + \\frac{j\\Gamma}{2\\pi}\\ln z$$\n",
    "\n",
    "$$w = \\frac{j\\Gamma}{2\\pi}\\sum_{m=1}^{+\\infty} \\ln\\left(1-\\frac{z^2}{m^2a^2}\\right) + \\frac{j\\Gamma}{2\\pi}\\ln z$$\n",
    "\n",
    "$$w = \\frac{j\\Gamma}{2\\pi} \\ln\\left(\\prod_{m=1}^{+\\infty}\\left(1-\\frac{z^2}{m^2a^2}\\right)\\right) + \\frac{j\\Gamma}{2\\pi}\\ln z$$\n",
    "\n",
    "$$w = \\frac{j\\Gamma}{2\\pi} \\ln\\left(z\\prod_{m=1}^{+\\infty}\\left(1-\\frac{z^2}{m^2a^2}\\right)\\right)$$\n",
    "\n",
    "$$w = \\frac{j\\Gamma}{2\\pi} \\ln\\left(z\\prod_{m=1}^{+\\infty}\\left(1-\\frac{\\left(\\frac{z\\pi}{a}\\right)^2}{m^2\\pi^2}\\right)\\right)$$\n",
    "\n",
    "Это произведение есть не что иное, как представление синуса. Тогда комплексный потенциал превращается в \n",
    "\n",
    "$$w = \\frac{j\\Gamma}{2\\pi}\\ln\\left(\\sin\\left(\\frac{z\\pi}{a}\\right)\\right)$$\n",
    "\n",
    "Теперь дифференцируем его по комплексной переменной и получим скорости:\n",
    "\n",
    "$$\\frac{dw}{dz} = u-iv = \\frac{j\\Gamma}{2a}\\cot\\left(\\frac{z\\pi}{a}\\right)$$\n",
    "\n",
    "$$u-jv = \\frac{j\\Gamma}{2a}\\frac{\\cos\\left(\\frac{\\pi x}{a}+j\\frac{\\pi y}{a}\\right)}{\\sin\\left(\\frac{\\pi x}{a}+j\\frac{\\pi y}{a}\\right)}$$\n",
    "\n",
    "Применяя тригонометрические тождества, найдем следующее выражение\n",
    "\n",
    "$$u-jv = \\frac{j\\Gamma}{2a}\\frac{\\cos\\left(\\frac{\\pi x}{a}\\right)\\cosh\\left(\\frac{\\pi y}{a}\\right) - j\\sin\\left(\\frac{\\pi x}{a}\\right)\\sinh\\left(\\frac{\\pi y}{a}\\right)}{\\sin\\left(\\frac{\\pi x}{a}\\right)\\cosh\\left(\\frac{\\pi y}{a}\\right) + j\\cos\\left(\\frac{\\pi x}{a}\\right)\\sinh\\left(\\frac{\\pi y}{a}\\right)}$$\n",
    "\n",
    "которые могут быть представлены в виде\n",
    "\n",
    "$$u-jv = \\frac{\\Gamma}{2a}\\frac{\\sinh\\left(\\frac{2\\pi y}{a}\\right)}{\\cosh\\left(\\frac{2\\pi y}{a}\\right) - \\cos\\left(\\frac{2\\pi x}{a}\\right)} + j \\frac{\\Gamma}{2a}\\frac{\\sin\\left(\\frac{2\\pi x}{a}\\right)}{\\cosh\\left(\\frac{2\\pi y}{a}\\right) - \\cos\\left(\\frac{2\\pi x}{a}\\right)}$$\n",
    "\n",
    "Таким образом декартовы компоненты скорости бесконечной цепочки вихрей задаются выражениями\n",
    "\n",
    "$$u\\left(x,y\\right) = +\\frac{\\Gamma}{2a}\\frac{\\sinh\\left(\\frac{2\\pi y}{a}\\right)}{\\cosh\\left(\\frac{2\\pi y}{a}\\right)-\\cos\\left(\\frac{2\\pi x}{a}\\right)}$$\n",
    "\n",
    "$$v\\left(x,y\\right) = -\\frac{\\Gamma}{2a}\\frac{\\sin\\left(\\frac{2\\pi x}{a}\\right)}{\\cosh\\left(\\frac{2\\pi y}{a}\\right)-\\cos\\left(\\frac{2\\pi x}{a}\\right)}$$"
   ]
  },
  {
   "cell_type": "markdown",
   "metadata": {},
   "source": [
    "---"
   ]
  },
  {
   "cell_type": "markdown",
   "metadata": {},
   "source": [
    "##### Задача:\n",
    "\n",
    "#### Вычислить поле скорости и нарисовать линии тока для *бесконечной* цепочки вихрей"
   ]
  },
  {
   "cell_type": "markdown",
   "metadata": {},
   "source": [
    "Теперь, когда мы вывели соотношения для компонент скорости, запрограммируйте их и нарисуйте линии тока.\n",
    "\n",
    "*Можете ли вы заметить разницу с предыдущим случаем, когда количество вихрей было конечным?*\n",
    "\n",
    "Попробуйте поменять настройки для картины течения вокруг конечного числа вихрей так, чтобы получилась картинка, похожая на бесконечый случай. Когда можно сказать, что конечный случай является хорошим приближением бесконечного?"
   ]
  },
  {
   "cell_type": "markdown",
   "metadata": {},
   "source": [
    "##### Подумайте"
   ]
  },
  {
   "cell_type": "markdown",
   "metadata": {},
   "source": [
    "Обратите внимание, что линии тока параллельны *вихревому слою*: отсутствует течение по нормали. Таким образом с помощью такого слоя можно моделировать твердую поверхность в потенциальном потоке. Мы получили скорость скольжения на поверхности: как это согласуется с потенциальным течением?"
   ]
  },
  {
   "cell_type": "markdown",
   "metadata": {},
   "source": [
    "---"
   ]
  },
  {
   "cell_type": "raw",
   "metadata": {},
   "source": [
    "Пожалуйста, не обращайте внимания на ячейку ниже. При её исполнении загружаются стили для отображения блокнота."
   ]
  },
  {
   "cell_type": "code",
   "execution_count": 1,
   "metadata": {},
   "outputs": [
    {
     "data": {
      "text/html": [
       "<link href='http://fonts.googleapis.com/css?family=PT+Serif' rel='stylesheet' type='text/css'>\n",
       "<link href='http://fonts.googleapis.com/css?family=Alegreya+Sans:100,300,400,500,700,800,900,100italic,300italic,400italic,500italic,700italic,800italic,900italic' rel='stylesheet' type='text/css'>\n",
       "<link href='http://fonts.googleapis.com/css?family=Source+Code+Pro:300,400' rel='stylesheet' type='text/css'>\n",
       "<style>\n",
       "\n",
       "@font-face {\n",
       "    font-family: \"Computer Modern\";\n",
       "    src: url('http://mirrors.ctan.org/fonts/cm-unicode/fonts/otf/cmunss.otf');\n",
       "}\n",
       "\n",
       "\n",
       "#notebook_panel { /* main background */\n",
       "    background: rgb(245,245,245);\n",
       "}\n",
       "\n",
       "div.cell { /* set cell width */\n",
       "    width: 750px;\n",
       "}\n",
       "\n",
       "div #notebook { /* centre the content */\n",
       "    background: #fff; /* white background for content */\n",
       "    width: 1000px;\n",
       "    margin: auto;\n",
       "    padding-left: 0em;\n",
       "}\n",
       "\n",
       "#notebook li { /* More space between bullet points */\n",
       "margin-top:0.8em;\n",
       "}\n",
       "\n",
       "/* draw border around running cells */\n",
       "div.cell.border-box-sizing.code_cell.running { \n",
       "    border: 1px solid #111;\n",
       "}\n",
       "\n",
       "/* Put a solid color box around each cell and its output, visually linking them*/\n",
       "div.cell.code_cell {\n",
       "    background-color: rgb(256,256,256); \n",
       "    border-radius: 0px; \n",
       "    padding: 0.5em;\n",
       "    margin-left:1em;\n",
       "    margin-top: 1em;\n",
       "}\n",
       "\n",
       "\n",
       "div.text_cell_render{\n",
       "    font-family: 'Alegreya Sans', sans-serif;\n",
       "    line-height: 140%;\n",
       "    font-size: 125%;\n",
       "    font-weight: 400;\n",
       "    width:600px;\n",
       "    margin-left:auto;\n",
       "    margin-right:auto;\n",
       "}\n",
       "\n",
       "/* Formatting for header cells */\n",
       ".text_cell_render h1 {\n",
       "    font-family: 'Alegreya Sans', sans-serif;\n",
       "    font-style:regular;\n",
       "    font-weight: 200;    \n",
       "    font-size: 50pt;\n",
       "    line-height: 100%;\n",
       "    color:#CD2305;\n",
       "    margin-bottom: 0.5em;\n",
       "    margin-top: 0.5em;\n",
       "    display: block;\n",
       "}\t\n",
       ".text_cell_render h2 {\n",
       "    font-family: 'PT Serif', serif;\n",
       "    font-size: 22pt;\n",
       "    line-height: 100%;\n",
       "    margin-bottom: 0.1em;\n",
       "    margin-top: 0.3em;\n",
       "    display: block;\n",
       "}\t\n",
       "\n",
       ".text_cell_render h3 {\n",
       "    font-family: 'PT Serif', serif;\n",
       "    margin-top:12px;\n",
       "\tfont-size: 16pt;\n",
       "    margin-bottom: 3px;\n",
       "    font-style: regular;\n",
       "}\n",
       "\n",
       ".text_cell_render h4 {    /*Use this for captions*/\n",
       "    font-family: 'PT Serif', serif;\n",
       "    font-size: 2pt;\n",
       "    text-align: center;\n",
       "    margin-top: 0em;\n",
       "    margin-bottom: 2em;\n",
       "    font-style: regular;\n",
       "}\n",
       "\n",
       ".text_cell_render h5 {  /*Use this for small titles*/\n",
       "    font-family: 'Alegreya Sans', sans-serif;\n",
       "    font-weight: 300;\n",
       "    font-size: 16pt;\n",
       "    color: #CD2305;\n",
       "    font-style: italic;\n",
       "    margin-bottom: .5em;\n",
       "    margin-top: 0.5em;\n",
       "    display: block;\n",
       "}\n",
       "\n",
       ".text_cell_render h6 { /*use this for copyright note*/\n",
       "    font-family: 'Source Code Pro', sans-serif;\n",
       "    font-weight: 300;\n",
       "    font-size: 9pt;\n",
       "    line-height: 100%;\n",
       "    color: grey;\n",
       "    margin-bottom: 1px;\n",
       "    margin-top: 1px;\n",
       "}\n",
       "\n",
       "    .CodeMirror{\n",
       "            font-family: \"Consolas\";\n",
       "\t\t\tfont-size: 110%;\n",
       "    }\n",
       "/*    .prompt{\n",
       "        display: None;\n",
       "    }*/\n",
       "\t\n",
       "    \n",
       "    .warning{\n",
       "        color: rgb( 240, 20, 20 )\n",
       "        }  \n",
       "</style>\n",
       "<script>\n",
       "    MathJax.Hub.Config({\n",
       "                        TeX: {\n",
       "                           extensions: [\"AMSmath.js\"], \n",
       "                           equationNumbers: { autoNumber: \"AMS\", useLabelIds: true}\n",
       "                           },\n",
       "                tex2jax: {\n",
       "                    inlineMath: [ ['$','$'], [\"\\\\(\",\"\\\\)\"] ],\n",
       "                    displayMath: [ ['$$','$$'], [\"\\\\[\",\"\\\\]\"] ]\n",
       "                },\n",
       "                displayAlign: 'center', // Change this to 'center' to center equations.\n",
       "                \"HTML-CSS\": {\n",
       "                    styles: {'.MathJax_Display': {\"margin\": 4}}\n",
       "                }\n",
       "        });\n",
       "</script>\n"
      ],
      "text/plain": [
       "<IPython.core.display.HTML object>"
      ]
     },
     "execution_count": 1,
     "metadata": {},
     "output_type": "execute_result"
    }
   ],
   "source": [
    "from IPython.core.display import HTML\n",
    "def css_styling():\n",
    "    styles = open('../styles/custom.css', 'r').read()\n",
    "    return HTML(styles)\n",
    "css_styling()"
   ]
  }
 ],
 "metadata": {
  "kernelspec": {
   "display_name": "Python 3",
   "language": "python",
   "name": "python3"
  },
  "language_info": {
   "codemirror_mode": {
    "name": "ipython",
    "version": 3
   },
   "file_extension": ".py",
   "mimetype": "text/x-python",
   "name": "python",
   "nbconvert_exporter": "python",
   "pygments_lexer": "ipython3",
   "version": "3.6.3"
  }
 },
 "nbformat": 4,
 "nbformat_minor": 1
}
