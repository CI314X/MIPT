{
 "cells": [
  {
   "cell_type": "markdown",
   "metadata": {},
   "source": [
    "###### Материал распространяется по лицензии Creative Commons Attribution license, CC-BY 4.0; code under MIT license.  (c)2014 Lorena A. Barba,  Olivier Mesnard. Благодарности: NSF for support via CAREER award #1149784."
   ]
  },
  {
   "cell_type": "markdown",
   "metadata": {},
   "source": [
    "##### Версия 0.1 -- Март 2015"
   ]
  },
  {
   "cell_type": "markdown",
   "metadata": {},
   "source": [
    "# Панельный метод источников"
   ]
  },
  {
   "cell_type": "markdown",
   "metadata": {},
   "source": [
    "Курс *AeroPython* выходит на финишную прямую! На первых занятиях мы рассмотрели несколько элементарных потенциальных течений и научились использовать всю мощь принципа суперпозиции. И при помощи этих знаний получили некоторые полезные с точки зрения аэродинамики результаты.\n",
    "\n",
    "При наложении [диполя](03_Lesson03_doublet.ipynb) на равномерный поток получилось обтекание кругового цилиндра, а мы узнали о *парадоксе Д'Аламбера*: сопротивление цилиндра в потоке жидкости равно нулю. Добавив в центр круга [вихрь](06_Lesson06_vortexLift.ipynb) мы познакомились с подъемной силой и *теоремой Кутты-Жуковского*, согласно которой подъемная сила пропорциональна циркуляции: $L=\\rho U \\Gamma$. Это важнейший результат!\n",
    "\n",
    "Сложение элементарных потенциальных течений и интерпретация получившейся картины течения как обтекания твердого тела, контуры которого образованы разделительной линией тока, обычно называют *непрямым методом*. Этот метод восходит к Рэнкину, а это 1871 год! Но он имеет ограниченную применимость, поскольку невозможно найти походящее решение для наперед заданной геометрии.\n",
    "\n",
    "В [девятом занятии](09_Lesson09_flowOverCylinder.ipynb) мы убедились, что произвольную геометрию можно разбить на панели, поместить на них распределенные источники и подобрать их интенсивности таким образом, чтобы направление потока было касательным к границе тела. Такой подход называется *прямым методом*, он появился в 1960-х в работах Гесса и Смита, выполненных для Douglas Aircraft Company.\n",
    "\n",
    "Набором панелей (в двумерном случае, отрезков) и связанными с ними слоями источников, интенсивность которых определяется из условия равенства нулю нормальной компоненты скорости, можно представить поверхность любого твердого тела, помещенного в потенциальное течение. Это очень мощная идея! Нужно только помнить, что интенсивности панелей связаны между собой, и это приводит к необходимости решать систему линейных уравнений.\n",
    "\n",
    "Для произвольной геометрии, мы должны построить набор панелей по некоторым точкам, которые определяют геометрию. На этом занятии мы зачитаем из файла геометрию профиля **NACA0012**, создадим набор панелей и решим систему уравнений для определения интенсивностей слоев источников, что позволит нам получить обтекание профиля.\n",
    "\n",
    "* *Убедитесь, что вы изучили [Занятие 9](09_Lesson09_flowOverCylinder.ipynb) тщательно прежде чем продолжить!* Мы не будем повторять все математические выкладки в этом блокноте, так что обращайтесь к пройденному материалу по мере необходимости.\n",
    "\n",
    "Для начала загрузим наши любимые библиотеки, а также модуль `integrate` из SciPy:"
   ]
  },
  {
   "cell_type": "code",
   "execution_count": 1,
   "metadata": {},
   "outputs": [],
   "source": [
    "import os\n",
    "import math\n",
    "import numpy\n",
    "from scipy import integrate\n",
    "from matplotlib import pyplot\n",
    "# помещаем графику внутрь блокнота\n",
    "%matplotlib inline"
   ]
  },
  {
   "cell_type": "markdown",
   "metadata": {},
   "source": [
    "Затем зачитаем геометрию профиля из файла, используя функцию [`loadtxt()`](http://docs.scipy.org/doc/numpy/reference/generated/numpy.loadtxt.html). Файл с геометрией был взят с сайта [Airfoil Tools](http://airfoiltools.com/airfoil/details?airfoil=n0012-il) и содержит набор координат стандартного симметричного профиля NACA0012. Локальная копия файла с геометрией находится в директории `resources`.\n",
    "\n",
    "Точки геометрии загружаются в один массив numpy, а мы разделим эти данные на два массива: `x,y` для удобства. При помощи следующих строчек кода мы нарисуем профиль. "
   ]
  },
  {
   "cell_type": "code",
   "execution_count": 2,
   "metadata": {},
   "outputs": [
    {
     "data": {
      "image/png": "[encoded data removed]",
      "text/plain": [
       "<matplotlib.figure.Figure at 0x1873c5a0f28>"
      ]
     },
     "metadata": {},
     "output_type": "display_data"
    }
   ],
   "source": [
    "# зачитываем геометрию из файла с данными\n",
    "naca_filepath = os.path.join('resources', 'naca0012.dat')\n",
    "with open (naca_filepath, 'r') as file_name:\n",
    "    x, y = numpy.loadtxt(file_name, dtype=float,\\\n",
    "                         delimiter='\\t', unpack=True)\n",
    "\n",
    "# рисуем геометрию\n",
    "width = 10\n",
    "pyplot.figure(figsize=(width, width))\n",
    "pyplot.grid()\n",
    "pyplot.xlabel('x', fontsize=16)\n",
    "pyplot.ylabel('y', fontsize=16)\n",
    "pyplot.plot(x, y, color='k', linestyle='-', linewidth=2)\n",
    "pyplot.axis('scaled', adjustable='box')\n",
    "pyplot.xlim(-0.1, 1.1)\n",
    "pyplot.ylim(-0.1, 0.1);"
   ]
  },
  {
   "cell_type": "markdown",
   "metadata": {},
   "source": [
    "## Разбиение на панели"
   ]
  },
  {
   "cell_type": "markdown",
   "metadata": {},
   "source": [
    "Как и в [Занятии 9](09_Lesson09_flowOverCylinder.ipynb), создадим разбиение геометрии на панели (в нашем, двуменрном, случае — на отрезки). У панелей будут такие характеристики (атрибуты): начальная и конечная точки, середина, длина и ориентация. На рисунке ниже приведены условные обозначения — имена переменных, которые мы будем использовать в коде.\n",
    "\n",
    "<img src=\"./resources/panelSketch.png\" width=\"400\">"
   ]
  },
  {
   "cell_type": "markdown",
   "metadata": {},
   "source": [
    "Мы слегка изменим класс `Panel` из предыдущего блокнота, подгоним его под новую задачу — изучение обтекания профиля. Единственное изменение — принадлежность точки к верхней или нижней поверхности обозначим признаками `upper` и `lower`. Это нам пригодится позже, мы сможем нарисовать результаты для верхней и нижней поверхностей разными цветами."
   ]
  },
  {
   "cell_type": "code",
   "execution_count": 3,
   "metadata": {},
   "outputs": [],
   "source": [
    "class Panel:\n",
    "    \"\"\"\n",
    "    Contains information related to a panel.\n",
    "    \"\"\"\n",
    "    def __init__(self, xa, ya, xb, yb):\n",
    "        \"\"\"\n",
    "        Initializes the panel.\n",
    "        \n",
    "        Sets the end-points and calculates the center, length,\n",
    "        and angle (with the x-axis) of the panel.\n",
    "        Defines if the panel is on the lower or upper surface of the geometry.\n",
    "        Initializes the source-sheet strength, tangential velocity,\n",
    "        and pressure coefficient to zero.\n",
    "        \n",
    "        Parameters\n",
    "        ----------\n",
    "        xa: float\n",
    "            x-coordinate of the first end-point.\n",
    "        ya: float\n",
    "            y-coordinate of the first end-point.\n",
    "        xb: float\n",
    "            x-coordinate of the second end-point.\n",
    "        yb: float\n",
    "            y-coordinate of the second end-point.\n",
    "        \"\"\"\n",
    "        self.xa, self.ya = xa, ya\n",
    "        self.xb, self.yb = xb, yb\n",
    "        \n",
    "        # контрольная точка (центр панели)\n",
    "        self.xc, self.yc = (xa+xb)/2, (ya+yb)/2 \n",
    "        # длина панели\n",
    "        self.length = math.sqrt((xb-xa)**2+(yb-ya)**2)     \n",
    "        \n",
    "        # ориентация панели (угол между нормалью и осью x)\n",
    "        if xb-xa <= 0.:\n",
    "            self.beta = math.acos((yb-ya)/self.length)\n",
    "        elif xb-xa > 0.:\n",
    "            self.beta = math.pi + math.acos(-(yb-ya)/self.length)\n",
    "        \n",
    "        # положение панели\n",
    "        if self.beta <= math.pi:\n",
    "            self.loc = 'upper'\n",
    "        else:\n",
    "            self.loc = 'lower'\n",
    "        \n",
    "        self.sigma = 0.                         # интенсивность источника\n",
    "        self.vt = 0.                            # касательная скорость\n",
    "        self.cp = 0.                            # коэффициент давления"
   ]
  },
  {
   "cell_type": "markdown",
   "metadata": {},
   "source": [
    "В случае кругового цилиндра разбиение на панели выглядело очень просто. Именно эта часть усложняется при переходе к произвольной геометрии, в то время как часть метода, ответственная за решение, остается такой же, как и в [Занятии 9](09_Lesson09_flowOverCylinder.ipynb).\n",
    "\n",
    "Функция, приведенная ниже, создает панели, исходя из геометрических данных, которые была прочитаны из файла. На передней и задней кромках, где большая кривизна, лучше сделать панели помельче. Один из способов получения неравномерного распределения панелей по профилю — сначала дискретизировать круг с диаметром, равным хорде профиля, касающийся передней и задней кромок, как показано на следующем рисунке.\n",
    "\n",
    "<img src=\"./resources/naca0012_in_circle.png\" width=\"300\">"
   ]
  },
  {
   "cell_type": "markdown",
   "metadata": {},
   "source": [
    "Затем, сохранить значения $x$-координат точек окружности, `x_circle`, которые станут $x$-координатами узлов панелей, `x`, и спроецировать $y$-координаты точек окружности на профиль при помощи интерполяции. В итоге получится распределение узлов на профиле, со сгущением к передней и задней кромкам. Выглядит это так:\n",
    "\n",
    "<img src=\"./resources/naca0012_discretized_in_circle.png\" width=\"300\">"
   ]
  },
  {
   "cell_type": "markdown",
   "metadata": {},
   "source": [
    "Описанный способ разбиения реализовани в функции `define_panels()`, она получает на вход желаемое число панелей и набор координат, а выдает массив объектов класса `Panel`, содержащих всю информацию о каждой панели.\n",
    "\n",
    "Несколько замечаний о реализации функции `define_panels()`:\n",
    "\n",
    "* только $x$-координаты точек окружности (`x_circle`) нужно вычислить, поскольку $y$-координаты узлов панелей будут определены при помощи интерполяции;\n",
    "* для построения окружности создается `N+1` точка, но первая и последняя точки совпадают;\n",
    "* расширение массивов происходит простым добавлением дополнительных элементов с известными значениями (они равно значению нулевых элементов), поэтому в циклах элементы `x[i+1]` не участвуют;\n",
    "* цикл *while* используется для поиска двух соседниех точек на профиле, (`x[I]`,`y[I]`) и (`x[I+1]`,`y[I+1]`), таких, чтобы в интервале [`x[I]`,`x[I+1]`] лежало значение координаты `x_ends[i]`. Для выхода из цикла используется ключевое слово `break`;\n",
    "* когда определены две нужные точки, значение `y_ends[i]` рассчитывется при помощи интерполяции."
   ]
  },
  {
   "cell_type": "code",
   "execution_count": 4,
   "metadata": {},
   "outputs": [],
   "source": [
    "def define_panels(x, y, N=40):\n",
    "    \"\"\"\n",
    "    Discretizes the geometry into panels using the 'cosine' method.\n",
    "    \n",
    "    Parameters\n",
    "    ----------\n",
    "    x: 1D array of floats\n",
    "        x-coordinate of the points defining the geometry.\n",
    "    y: 1D array of floats\n",
    "        y-coordinate of the points defining the geometry.\n",
    "    N: integer, optional\n",
    "        Number of panels;\n",
    "        default: 40.\n",
    "    \n",
    "    Returns\n",
    "    -------\n",
    "    panels: 1D Numpy array of Panel objects\n",
    "        The discretization of the geometry into panels.\n",
    "    \"\"\"\n",
    "    R = (x.max()-x.min())/2                         # радиус окружности\n",
    "    x_center = (x.max()+x.min())/2                  # x-координата центра\n",
    "    # x-координаты точек окружности\n",
    "    x_circle = x_center + R*numpy.cos(numpy.linspace(0, 2*math.pi, N+1))  \n",
    "    # проекция x-координаты на поверхность профиля\n",
    "    x_ends = numpy.copy(x_circle)      \n",
    "    # инициализация массива c y-координатами\n",
    "    y_ends = numpy.empty_like(x_ends)  \n",
    "    # добавляем к массиву точки, используя numpy.append\n",
    "    x, y = numpy.append(x, x[0]), numpy.append(y, y[0])    \n",
    "    \n",
    "    # вычисляем y-координаты концов отрезков\n",
    "    I = 0\n",
    "    for i in range(N):\n",
    "        while I < len(x)-1:\n",
    "            if (x[I] <= x_ends[i] <= x[I+1]) or \\\n",
    "            (x[I+1] <= x_ends[i] <= x[I]):\n",
    "                break\n",
    "            else:\n",
    "                I += 1\n",
    "        a = (y[I+1]-y[I])/(x[I+1]-x[I])\n",
    "        b = y[I+1] - a*x[I+1]\n",
    "        y_ends[i] = a*x_ends[i] + b\n",
    "    y_ends[N] = y_ends[0]\n",
    "    \n",
    "    panels = numpy.empty(N, dtype=object)\n",
    "    for i in range(N):\n",
    "        panels[i] = Panel(x_ends[i], y_ends[i], x_ends[i+1], y_ends[i+1])\n",
    "    \n",
    "    return panels"
   ]
  },
  {
   "cell_type": "markdown",
   "metadata": {},
   "source": [
    "Теперь можно воспользоваться этой функцией, при выполнении следующей ячейки функция вызывается с необходимым числом панелей в качестве параметра. И еще нарисуем конечную геометрию."
   ]
  },
  {
   "cell_type": "code",
   "execution_count": 5,
   "metadata": {},
   "outputs": [
    {
     "data": {
      "image/png": "[encoded data removed]",
      "text/plain": [
       "<matplotlib.figure.Figure at 0x1873c6c4978>"
      ]
     },
     "metadata": {},
     "output_type": "display_data"
    }
   ],
   "source": [
    "N = 40                            # число панелей\n",
    "panels = define_panels(x, y, N)   # разбиваем геометрию на панели\n",
    "\n",
    "# рисуем исходную геометрию и панели\n",
    "width = 10\n",
    "pyplot.figure(figsize=(width, width))\n",
    "pyplot.grid()\n",
    "pyplot.xlabel('x', fontsize=16)\n",
    "pyplot.ylabel('y', fontsize=16)\n",
    "pyplot.plot(x, y, color='k', linestyle='-', linewidth=2)\n",
    "pyplot.plot(numpy.append([panel.xa for panel in panels], panels[0].xa),\n",
    "            numpy.append([panel.ya for panel in panels], panels[0].ya),\n",
    "            linestyle='-', linewidth=1, marker='o', markersize=6,\\\n",
    "            color='#CD2305')\n",
    "pyplot.axis('scaled', adjustable='box')\n",
    "pyplot.xlim(-0.1, 1.1)\n",
    "pyplot.ylim(-0.1, 0.1);"
   ]
  },
  {
   "cell_type": "markdown",
   "metadata": {},
   "source": [
    "## Параметры набегающего потока"
   ]
  },
  {
   "cell_type": "markdown",
   "metadata": {},
   "source": [
    "Профиль NACA0012 будет помещен в равномерный поток со скоростью $U_\\infty$ и углом атаки $\\alpha=0$. Хотя создание отдельного класса для невозмущенного течения может показаться лишним, мы все равно это сделаем. Создавая класс, мы предполагаем, что понадобится несколько объектов такого класса. Здесь же нам нужен только один набегающий поток, зачем же такие сложности? Вообще, это делает код более читабельным и позволяет программисту использовать имена переменных `u_inf` и `alpha` для чего-то еще за пределами класса.\n",
    "Кроме того, каждый раз, когда нам понадобится передать параметры набегающего потока в качестве входных данных для функции, мы просто можем передать объект в качестве аргумента а не все параметры течения по отдельности."
   ]
  },
  {
   "cell_type": "code",
   "execution_count": 6,
   "metadata": {},
   "outputs": [],
   "source": [
    "class Freestream:\n",
    "    \"\"\"\n",
    "    Freestream conditions.\n",
    "    \"\"\"\n",
    "    def __init__(self, u_inf=1.0, alpha=0.0):\n",
    "        \"\"\"\n",
    "        Sets the freestream speed and angle (with the x-axis).\n",
    "        \n",
    "        Parameters\n",
    "        ----------\n",
    "        u_inf: float, optional\n",
    "            Freestream speed;\n",
    "            default: 1.0.\n",
    "        alpha: float, optional\n",
    "            Angle of attack in degrees;\n",
    "            default: 0.0.\n",
    "        \"\"\"\n",
    "        self.u_inf = u_inf\n",
    "        self.alpha = alpha*math.pi/180          # градусы --> радианы"
   ]
  },
  {
   "cell_type": "code",
   "execution_count": 7,
   "metadata": {},
   "outputs": [],
   "source": [
    "# задаем параметры набегающего потока\n",
    "# и определяем ими объект нужного класса\n",
    "u_inf = 1.0                                # скорость потока\n",
    "alpha = 0.0                                # угол атаки (в градусах)\n",
    "# инициализация объекта класса freestream\n",
    "freestream = Freestream(u_inf, alpha)      "
   ]
  },
  {
   "cell_type": "markdown",
   "metadata": {},
   "source": [
    "## Граничное условие для потока на поверхности тела"
   ]
  },
  {
   "cell_type": "markdown",
   "metadata": {},
   "source": [
    "Обеспечение касательности скорости в *контрольных точках* делает контур тела разделительной линией тока в некотором приближении, при этом точность такого приближения увеличивается по мере роста количества панелей. Итак, для каждой панели $i$, нужно обеспечить $u_n=0$ в точке , $(x_{c_i},y_{c_i})$, что приводит к системе уравнений, которую мы вывели на прошлом занятии:\n",
    "\n",
    "\\begin{equation}\n",
    "u_{n_i} = \\frac{\\partial}{\\partial n_i}\\left\\lbrace \\phi\\left(x_{c_i},y_{c_i}\\right) \\right\\rbrace = 0\n",
    "\\end{equation}\n",
    "\n",
    "то есть\n",
    "\n",
    "\\begin{equation}\n",
    "0 = U_\\infty \\cos\\beta_i + \\frac{\\sigma_i}{2} + \\sum_{j=1,j\\neq i}^{N_p} \\frac{\\sigma_j}{2\\pi} \\int \\frac{\n",
    "\\left(x_{c_i}-x_j(s_j)\\right) \\cos\\beta_i\n",
    "+ \\left(y_{c_i}-y_j(s_j)\\right) \\sin\\beta_i\n",
    "}\n",
    "{\\left(x_{c_i}-x_j(s)\\right)^2 + \\left(y_{c_i}-y_j(s)\\right)^2} {\\rm d}s_j\n",
    "\\end{equation}"
   ]
  },
  {
   "cell_type": "markdown",
   "metadata": {},
   "source": [
    "В приведенном выше уравнении, мы вычисляем производную потенциала по нормали для обеспечения касательности потока на каждой панели. Но позже нам предстоит вычислять еще и производную по касательной для определения коэффициента давления. А если нам потебуется отобразить поле скоростей на в узлах расчетной сетки, то нужно будет еще вычислить и производные по $x$- и $y$-кординатам.\n",
    "\n",
    "Поэтому функция, приведенная ниже, аналогична реализованной в [Занятии 9](09_Lesson09_flowOverCylinder.ipynb) для вычисления значений интеграла на каждой панели, но теперь мы обобщили ее на случай разных направлений производных (при помощи двух новых аргументов `dxdz` and `dydz`, которые представляют значения $\\frac{\\partial x_{c_i}}{\\partial z_i}$ and $\\frac{\\partial y_{c_i}}{\\partial z_i}$,  где $z_i$ — нужное направление).\n",
    "\n",
    "Более того, новая функция более общая еще и потому, что позволяет получать значения в любой точке панели, а не только в центре (вместо аргумента `p_i` появились координаты контрольной точки `x` и `y`, а `p_j` заменили на `panel`)."
   ]
  },
  {
   "cell_type": "code",
   "execution_count": 8,
   "metadata": {},
   "outputs": [],
   "source": [
    "def integral(x, y, panel, dxdz, dydz):\n",
    "    \"\"\"\n",
    "    Evaluates the contribution of a panel at one point.\n",
    "    \n",
    "    Parameters\n",
    "    ----------\n",
    "    x: float\n",
    "        x-coordinate of the target point.\n",
    "    y: float\n",
    "        y-coordinate of the target point.\n",
    "    panel: Panel object\n",
    "        Source panel which contribution is evaluated.\n",
    "    dxdz: float\n",
    "        Derivative of x in the z-direction.\n",
    "    dydz: float\n",
    "        Derivative of y in the z-direction.\n",
    "    \n",
    "    Returns\n",
    "    -------\n",
    "    Integral over the panel of the influence at the given target point.\n",
    "    \"\"\"\n",
    "    def integrand(s):\n",
    "        return ( ((x - (panel.xa - math.sin(panel.beta)*s))*dxdz\n",
    "                  +(y - (panel.ya + math.cos(panel.beta)*s))*dydz)\n",
    "                / ((x - (panel.xa - math.sin(panel.beta)*s))**2\n",
    "                   +(y - (panel.ya + math.cos(panel.beta)*s))**2) )\n",
    "    return integrate.quad(integrand, 0.0, panel.length)[0]"
   ]
  },
  {
   "cell_type": "markdown",
   "metadata": {},
   "source": [
    "## Построение системы линейных уравнений"
   ]
  },
  {
   "cell_type": "markdown",
   "metadata": {},
   "source": [
    "В этом разделе мы сосавим и решим систему линейных уравнений в виде\n",
    "\n",
    "\\begin{equation}[A][\\sigma] = [b].\\end{equation}\n",
    "\n",
    "При создании матрицы, мы будем вызывать функцию `integral()` с нужными значениями последних параметров: $\\cos \\beta_i$ и $\\sin\\beta_i$, соответствующими производным по нормали.\n",
    "\n",
    "Наконец, мы воспользуемся `linalg.solve()` из NumPy для решения системы уравнений и орпеделим интенсивность для каждой панели."
   ]
  },
  {
   "cell_type": "code",
   "execution_count": 9,
   "metadata": {},
   "outputs": [],
   "source": [
    "def build_matrix(panels):\n",
    "    \"\"\"\n",
    "    Builds the source matrix.\n",
    "    \n",
    "    Parameters\n",
    "    ----------\n",
    "    panels: 1D array of Panel object\n",
    "        The source panels.\n",
    "    \n",
    "    Returns\n",
    "    -------\n",
    "    A: 2D Numpy array of floats\n",
    "        The source matrix (NxN matrix; N is the number of panels).\n",
    "    \"\"\"\n",
    "    N = len(panels)\n",
    "    A = numpy.empty((N, N), dtype=float)\n",
    "    numpy.fill_diagonal(A, 0.5)\n",
    "    \n",
    "    for i, p_i in enumerate(panels):\n",
    "        for j, p_j in enumerate(panels):\n",
    "            if i != j:\n",
    "                A[i,j] = 0.5/math.pi*integral(p_i.xc, p_i.yc,\\\n",
    "                                              p_j, math.cos(p_i.beta),\\\n",
    "                                              math.sin(p_i.beta))\n",
    "    \n",
    "    return A\n",
    "\n",
    "def build_rhs(panels, freestream):\n",
    "    \"\"\"\n",
    "    Builds the RHS of the linear system.\n",
    "    \n",
    "    Parameters\n",
    "    ----------\n",
    "    panels: 1D array of Panel objects\n",
    "        The source panels.\n",
    "    freestream: Freestream object\n",
    "        The freestream conditions.\n",
    "    \n",
    "    Returns\n",
    "    -------\n",
    "    b: 1D Numpy array of floats\n",
    "        RHS of the linear system.\n",
    "    \"\"\"\n",
    "    b = numpy.empty(len(panels), dtype=float)\n",
    "    \n",
    "    for i, panel in enumerate(panels):\n",
    "        b[i] = -freestream.u_inf * math.cos(freestream.alpha - panel.beta)\n",
    "    \n",
    "    return b"
   ]
  },
  {
   "cell_type": "code",
   "execution_count": 10,
   "metadata": {},
   "outputs": [],
   "source": [
    "A = build_matrix(panels)            # вычисляем матрицу особенностей\n",
    "b = build_rhs(panels, freestream)   # вычисляем столбец правых частей"
   ]
  },
  {
   "cell_type": "code",
   "execution_count": 11,
   "metadata": {},
   "outputs": [],
   "source": [
    "# решаем систему уравненй\n",
    "sigma = numpy.linalg.solve(A, b)\n",
    "\n",
    "for i, panel in enumerate(panels):\n",
    "    panel.sigma = sigma[i]"
   ]
  },
  {
   "cell_type": "markdown",
   "metadata": {},
   "source": [
    "## Коэффициент давления на поверхности"
   ]
  },
  {
   "cell_type": "markdown",
   "metadata": {},
   "source": [
    "Согласно уравнению Бернулли, коэффициент давления на $i$-ой панели равен\n",
    "\n",
    "\\begin{equation}C_{p_i} = 1-\\left(\\frac{u_{t_i}}{U_\\infty}\\right)^2\n",
    "\\end{equation}\n",
    "\n",
    "где $u_{t_i}$ — касательная компонента скорости в центре $i$-ой панели,\n",
    "\n",
    "\\begin{equation}\n",
    "u_{t_i} = -U_\\infty \\sin\\beta_i + \\sum_{j=1}^{N_p} \\frac{\\sigma_j}{2\\pi} \\int \\frac{\n",
    "\\left(x_{c_i}-x_j(s_j)\\right) \\frac{\\partial x_{c_i}}{\\partial t_i}\n",
    "+ \\left(y_{c_i}-y_j(s_j)\\right) \\frac{\\partial y_{c_i}}{\\partial t_i}\n",
    "}\n",
    "{\\left(x_{c_i}-x_j(s)\\right)^2 + \\left(y_{c_i}-y_j(s)\\right)^2} {\\rm d}s_j\n",
    "\\end{equation}\n",
    "\n",
    "учитывая, что\n",
    "\n",
    "\\begin{equation}\n",
    "\\frac{\\partial x_{c_i}}{\\partial t_i} = -\\sin\\beta_i \\quad\\text{and} \\quad \\frac{\\partial y_{c_i}}{\\partial t_i} = \\cos\\beta_i\n",
    "\\end{equation}\n",
    "\n",
    "Обратите внимание, что ниже мы вызываем функцию `integral()` с другими аргументами: $-\\sin\\beta_i$ и $\\cos\\beta_i$, чтобы получить производную по касательной."
   ]
  },
  {
   "cell_type": "code",
   "execution_count": 12,
   "metadata": {},
   "outputs": [],
   "source": [
    "def get_tangential_velocity(panels, freestream):\n",
    "    \"\"\"\n",
    "    Computes the tangential velocity on the surface of the panels.\n",
    "    \n",
    "    Parameters\n",
    "    ---------\n",
    "    panels: 1D array of Panel objects\n",
    "        The source panels.\n",
    "    freestream: Freestream object\n",
    "        The freestream conditions.\n",
    "    \"\"\"\n",
    "    N = len(panels)\n",
    "    A = numpy.empty((N, N), dtype=float)\n",
    "    numpy.fill_diagonal(A, 0.0)\n",
    "    \n",
    "    for i, p_i in enumerate(panels):\n",
    "        for j, p_j in enumerate(panels):\n",
    "            if i != j:\n",
    "                A[i,j] = 0.5/math.pi*integral(p_i.xc, p_i.yc, p_j,\\\n",
    "                                              -math.sin(p_i.beta),\\\n",
    "                                              math.cos(p_i.beta))\n",
    "    \n",
    "    b = freestream.u_inf * \\\n",
    "    numpy.sin([freestream.alpha - panel.beta for panel in panels])\n",
    "    \n",
    "    sigma = numpy.array([panel.sigma for panel in panels])\n",
    "    \n",
    "    vt = numpy.dot(A, sigma) + b\n",
    "    \n",
    "    for i, panel in enumerate(panels):\n",
    "        panel.vt = vt[i]"
   ]
  },
  {
   "cell_type": "code",
   "execution_count": 13,
   "metadata": {},
   "outputs": [],
   "source": [
    "# вычисляем касательныю скорость в центрах панелей\n",
    "get_tangential_velocity(panels, freestream)"
   ]
  },
  {
   "cell_type": "code",
   "execution_count": 14,
   "metadata": {},
   "outputs": [],
   "source": [
    "def get_pressure_coefficient(panels, freestream):\n",
    "    \"\"\"\n",
    "    Computes the surface pressure coefficients on the panels.\n",
    "    \n",
    "    Parameters\n",
    "    ---------\n",
    "    panels: 1D array of Panel objects\n",
    "        The source panels.\n",
    "    freestream: Freestream object\n",
    "        The freestream conditions.\n",
    "    \"\"\"\n",
    "    for panel in panels:\n",
    "        panel.cp = 1.0 - (panel.vt/freestream.u_inf)**2"
   ]
  },
  {
   "cell_type": "code",
   "execution_count": 15,
   "metadata": {},
   "outputs": [],
   "source": [
    "# вычисляем коэффициент давления на поверхности\n",
    "get_pressure_coefficient(panels, freestream)"
   ]
  },
  {
   "cell_type": "markdown",
   "metadata": {},
   "source": [
    "### Теоретическое решение"
   ]
  },
  {
   "cell_type": "markdown",
   "metadata": {},
   "source": [
    "Существует классический способ получить теоретические характеристики крыльевых профилей, известный как метод *Теодорсена*. Метод основан на преобразовании Жуковского, но может применяться к настоящим профилям, так как в нем имеется дополнительное отображение из \"почти окружности\" в окружность. Метод довольно кучерявый! Но итоговые значения коэффициента давления для некоторых профилей затабулированы в 1945 году в [отчете NACA №824](http://ntrs.nasa.gov/archive/nasa/casi.ntrs.nasa.gov/19930090976.pdf) и доступны на сайте NASA. Нужные нам данные находятся на странице 71.\n",
    "\n",
    "В таблице представлены значения $(u/U_{\\infty})^2$ в нескольких точках по хорде профиля. Выведем их здесь и сохраним в массив:"
   ]
  },
  {
   "cell_type": "code",
   "execution_count": 16,
   "metadata": {},
   "outputs": [
    {
     "name": "stdout",
     "output_type": "stream",
     "text": [
      "[0.    0.64  1.01  1.241 1.378 1.402 1.411 1.411 1.399 1.378 1.35  1.288\n",
      " 1.228 1.166 1.109 1.044 0.956 0.906 0.   ]\n"
     ]
    }
   ],
   "source": [
    "voverVsquared=numpy.array([0, 0.64, 1.01, 1.241,\\\n",
    "                           1.378, 1.402, 1.411, \\\n",
    "                           1.411, 1.399, 1.378, \\\n",
    "                           1.35, 1.288, 1.228, \\\n",
    "                           1.166, 1.109, 1.044, 0.956, 0.906, 0])\n",
    "print(voverVsquared)"
   ]
  },
  {
   "cell_type": "code",
   "execution_count": 17,
   "metadata": {},
   "outputs": [
    {
     "name": "stdout",
     "output_type": "stream",
     "text": [
      "[0.     0.005  0.0125 0.025  0.05   0.075  0.1    0.15   0.2    0.25\n",
      " 0.3    0.4    0.5    0.6    0.7    0.8    0.9    0.95   1.    ]\n"
     ]
    }
   ],
   "source": [
    "xtheo=numpy.array([0, 0.5, 1.25, 2.5, 5.0, 7.5,\\\n",
    "                   10, 15, 20, 25, 30, 40, 50, 60,\\\n",
    "                   70, 80, 90, 95, 100])\n",
    "xtheo = xtheo/100\n",
    "print(xtheo)"
   ]
  },
  {
   "cell_type": "markdown",
   "metadata": {},
   "source": [
    "### И нарисуем результат!"
   ]
  },
  {
   "cell_type": "markdown",
   "metadata": {},
   "source": [
    "Воспользуемся данными из отчета NASA (они также опубликованы в книге Эббота и Доэнхоффа [\"Theory of Wing Sections,\"](http://books.google.com/books/about/Theory_of_Wing_Sections_Including_a_Summ.html?id=DPZYUGNyuboC) 1949), чтобы сопоставить их с результатами расчета по панельному методу источников. Давайте посмотрим, как это выглядит!"
   ]
  },
  {
   "cell_type": "code",
   "execution_count": 18,
   "metadata": {},
   "outputs": [
    {
     "data": {
      "image/png": "[encoded data removed]",
      "text/plain": [
       "<matplotlib.figure.Figure at 0x1873c5a0518>"
      ]
     },
     "metadata": {},
     "output_type": "display_data"
    }
   ],
   "source": [
    "# рисуем коэффициент давления на поверхности профиля\n",
    "pyplot.figure(figsize=(10, 6))\n",
    "pyplot.grid()\n",
    "pyplot.xlabel('x', fontsize=16)\n",
    "pyplot.ylabel('$C_p$', fontsize=16)\n",
    "pyplot.plot([panel.xc for panel in panels if panel.loc == 'upper'],\n",
    "            [panel.cp for panel in panels if panel.loc == 'upper'],\n",
    "            label='верх',\n",
    "            color='r', linewidth=1, marker='x', markersize=8)\n",
    "pyplot.plot([panel.xc for panel in panels if panel.loc == 'lower'],\n",
    "            [panel.cp for panel in panels if panel.loc == 'lower'],\n",
    "            label='низ',\n",
    "            color='b', linewidth=0, marker='d', markersize=6)\n",
    "pyplot.plot(xtheo, 1-voverVsquared,\n",
    "            label='точное решение',\n",
    "            color='k', linestyle='--',linewidth=2)\n",
    "pyplot.legend(loc='best', prop={'size':14})\n",
    "pyplot.xlim(-0.1, 1.1)\n",
    "pyplot.ylim(1.0, -0.6)\n",
    "pyplot.title('Число панелей : %d' % N);"
   ]
  },
  {
   "cell_type": "markdown",
   "metadata": {},
   "source": [
    "Довольно неплохо! Единственное место, где панельный метод не совсем соответствует табличным данным, полученным по методу Теодорсена, это задняя кромка. Но учтите, что граничное условия непротекания в панельном методе выполняется в контрольных точках панели (а не на концах), поэтому такое расхождение не удивительно."
   ]
  },
  {
   "cell_type": "markdown",
   "metadata": {},
   "source": [
    "##### Проверка точности"
   ]
  },
  {
   "cell_type": "markdown",
   "metadata": {},
   "source": [
    "Для замкнутого тела суммарная интенсивность всех источников должна равняться нулю. В противном случае тело добавляло бы в поток какую-то массу, или наоборот, что-то забирало бы. Поэтому, должно выполняться\n",
    "\n",
    "$$\\sum_{j=1}^{N} \\sigma_j l_j = 0$$\n",
    "\n",
    "где $l_j$ — длина $j^{\\text{ой}}$ панели.\n",
    "\n",
    "Зная это, можно оценить точность панельного метода источников."
   ]
  },
  {
   "cell_type": "code",
   "execution_count": 19,
   "metadata": {},
   "outputs": [
    {
     "name": "stdout",
     "output_type": "stream",
     "text": [
      "--> суммарная интенсивность источников/стоков: 0.004617031175283105\n"
     ]
    }
   ],
   "source": [
    "# вычисляем точность\n",
    "accuracy = sum([panel.sigma*panel.length for panel in panels])\n",
    "print('--> суммарная интенсивность источников/стоков: {}'.format(accuracy))"
   ]
  },
  {
   "cell_type": "markdown",
   "metadata": {},
   "source": [
    "## Линии тока"
   ]
  },
  {
   "cell_type": "markdown",
   "metadata": {},
   "source": [
    "Чтобы построить линии тока, нужно создать сетку (как мы делали на каждом занятии курса *AeroPython*!) и вычислить значения скоростей в ее узлах. Зная интенсивность каждой панели, мы находим $х$-компоненту скорости, взяв производную от потенциала скорости по переменной $x$, и $y$-компоненту путем взятия производной по $y$:\n",
    "\n",
    "$$u\\left(x,y\\right) = \\frac{\\partial}{\\partial x}\\left\\lbrace \\phi\\left(x,y\\right) \\right\\rbrace$$\n",
    "\n",
    "$$v\\left(x,y\\right) = \\frac{\\partial}{\\partial y}\\left\\lbrace \\phi\\left(x,y\\right) \\right\\rbrace$$\n",
    "\n",
    "Обратите внимание, что при вычислении производных по переменной $x$ мы вызываем функцию `integral()` с $1,0$, в качестве последних аргументов , и $0,1$ для производных по $y$.\n",
    "\n",
    "Кроме того, мы используем функцию `numpy.vectorize()` (как и в [Занятии 8](08_Lesson08_sourceSheet.ipynb)), чтобы избавиться от вложенного цикла по всей расчетной области."
   ]
  },
  {
   "cell_type": "code",
   "execution_count": 20,
   "metadata": {},
   "outputs": [],
   "source": [
    "def get_velocity_field(panels, freestream, X, Y):\n",
    "    \"\"\"\n",
    "    Computes the velocity field on a given 2D mesh.\n",
    "    \n",
    "    Parameters\n",
    "    ---------\n",
    "    panels: 1D array of Panel objects\n",
    "        The source panels.\n",
    "    freestream: Freestream object\n",
    "        The freestream conditions.\n",
    "    X: 2D Numpy array of floats\n",
    "        x-coordinates of the mesh points.\n",
    "    Y: 2D Numpy array of floats\n",
    "        y-coordinate of the mesh points.\n",
    "    \n",
    "    Returns\n",
    "    -------\n",
    "    u: 2D Numpy array of floats\n",
    "        x-component of the velocity vector field.\n",
    "    v: 2D Numpy array of floats\n",
    "        y-component of the velocity vector field.\n",
    "    \"\"\"\n",
    "    # вклад от набегающего потока\n",
    "    u = freestream.u_inf * math.cos(freestream.alpha) *\\\n",
    "    numpy.ones_like(X, dtype=float)\n",
    "    v = freestream.u_inf * math.sin(freestream.alpha) *\\\n",
    "    numpy.ones_like(X, dtype=float)\n",
    "    # добавляем вклад от каждой панели (суперпозиция рулит!!!)\n",
    "    vec_intregral = numpy.vectorize(integral)\n",
    "    for panel in panels:\n",
    "        u += panel.sigma / (2.0 * math.pi) * \\\n",
    "        vec_intregral(X, Y, panel, 1, 0)\n",
    "        v += panel.sigma / (2.0 * math.pi) * \\\n",
    "        vec_intregral(X, Y, panel, 0, 1)\n",
    "    \n",
    "    return u, v"
   ]
  },
  {
   "cell_type": "code",
   "execution_count": 21,
   "metadata": {},
   "outputs": [],
   "source": [
    "# определяем параметры сетки\n",
    "nx, ny = 20, 20  # количество узлов в x и y направленях\n",
    "x_start, x_end = -1.0, 2.0\n",
    "y_start, y_end = -0.3, 0.3\n",
    "X, Y = numpy.meshgrid(numpy.linspace(x_start, x_end, nx),\n",
    "                      numpy.linspace(y_start, y_end, ny))\n",
    "\n",
    "# рассчитываем поле скоростей в узлах расчетной сетки\n",
    "u, v = get_velocity_field(panels, freestream, X, Y)"
   ]
  },
  {
   "cell_type": "code",
   "execution_count": 22,
   "metadata": {},
   "outputs": [
    {
     "data": {
      "image/png": "[encoded data removed]",
      "text/plain": [
       "<matplotlib.figure.Figure at 0x1873c6c4710>"
      ]
     },
     "metadata": {},
     "output_type": "display_data"
    }
   ],
   "source": [
    "# рисуем поле скорости\n",
    "width = 10\n",
    "pyplot.figure(figsize=(width, width))\n",
    "pyplot.xlabel('x', fontsize=16)\n",
    "pyplot.ylabel('y', fontsize=16)\n",
    "pyplot.streamplot(X, Y, u, v,\n",
    "                  density=1, linewidth=1, arrowsize=1, arrowstyle='->')\n",
    "pyplot.fill([panel.xc for panel in panels],\n",
    "            [panel.yc for panel in panels],\n",
    "            color='k', linestyle='solid', linewidth=2, zorder=2)\n",
    "pyplot.axis('scaled', adjustable='box')\n",
    "pyplot.xlim(x_start, x_end)\n",
    "pyplot.ylim(y_start, y_end)\n",
    "title = 'Линии тока в окрестности профиля NACA 0012 (AoA = ${}^o$)'\n",
    "pyplot.title(title.format(alpha), fontsize=16);"
   ]
  },
  {
   "cell_type": "markdown",
   "metadata": {},
   "source": [
    "Теперь мы можем рассчитать коэффициент давления. На занятии 9 мы вычислили коэффициент давления на поверхности кругового цилиндра. Это было полезно, потому что у нас есть аналитическое решение для давления на поверхности цилиндра в потенциальном потоке. В случае профиля интересно было бы посмотреть, как выглядит давление в окрестности профиля, поэтому мы построим контурный график в расчетной области."
   ]
  },
  {
   "cell_type": "code",
   "execution_count": 23,
   "metadata": {},
   "outputs": [
    {
     "data": {
      "image/png": "[encoded data removed]",
      "text/plain": [
       "<matplotlib.figure.Figure at 0x1873cf64cc0>"
      ]
     },
     "metadata": {},
     "output_type": "display_data"
    }
   ],
   "source": [
    "# рассчитываем поле давления\n",
    "cp = 1.0 - (u**2+v**2)/freestream.u_inf**2\n",
    "\n",
    "# рисуем поле давления\n",
    "width = 10\n",
    "pyplot.figure(figsize=(width, width))\n",
    "pyplot.xlabel('x', fontsize=16)\n",
    "pyplot.ylabel('y', fontsize=16)\n",
    "contf = pyplot.contourf(X, Y, cp,\n",
    "                        levels=numpy.linspace(-2.0, 1.0, 100),\\\n",
    "                        extend='both')\n",
    "cbar = pyplot.colorbar(contf,\n",
    "                       orientation='horizontal',\n",
    "                       shrink=0.5, pad = 0.1,\n",
    "                       ticks=[-2.0, -1.0, 0.0, 1.0])\n",
    "cbar.set_label('$C_p$', fontsize=16)\n",
    "pyplot.fill([panel.xc for panel in panels],\n",
    "            [panel.yc for panel in panels],\n",
    "            color='k', linestyle='solid', linewidth=2, zorder=2)\n",
    "pyplot.axis('scaled', adjustable='box')\n",
    "pyplot.xlim(x_start, x_end)\n",
    "pyplot.ylim(y_start, y_end)\n",
    "pyplot.title('Поле коэффициента давления', fontsize=16);"
   ]
  },
  {
   "cell_type": "markdown",
   "metadata": {},
   "source": [
    "## Заключительные замечания\n",
    "\n",
    "Мы научились использовать слой  источников для представления любого твердого тела: сначала [кругового цилиндра](09_Lesson09_flowOverCylinder.ipynb) (который, как известно, можно было бы получить путем суперпозиции диполя и равномерного потока), а теперь и аэродинамического профиля.\n",
    "\n",
    "Но в чем особенность профилей, что делает их интересными? Ну, то, что мы можем использовать их для создания подъемной силы, собственно то, что заставляет их летать, конечно! Но что же нам нужно для создания подъемной силы? Подумайте, подумайте ... ничего не приходит на ум?"
   ]
  },
  {
   "cell_type": "markdown",
   "metadata": {},
   "source": [
    "## Литература"
   ]
  },
  {
   "cell_type": "markdown",
   "metadata": {},
   "source": [
    "1. [Airfoil Tools](http://airfoiltools.com/index), сайт с данными по профилям.\n",
    "1. Ira Herbert Abbott, Albert Edward Von Doenhoff and Louis S. Stivers, Jr. (1945), \"Summary of Airfoil Data,\" NACA Report No.824, [PDF on the NASA web server](http://ntrs.nasa.gov/archive/nasa/casi.ntrs.nasa.gov/19930090976.pdf) (см. стр. 71)\n",
    "1. Ira Herbert Abbott, Albert Edward Von Doenhoff, \"Theory of Wing Sections, Including a Summary of Airfoil Data\" (1949), Dover Press.\n",
    "\n",
    "Ссылка на метод Теодорсена:\n",
    "\n",
    "* Roland Schinzinger, Patricio A. A. Laura (1991), \"Conformal Mapping: Methods and Applications.\" Dover edition in 2003. [Доступно на Google Books](https://books.google.com/books?id=qe-7AQAAQBAJ&lpg=PA128&ots=wbg0jLlqq5&dq=method%20theodorsen&pg=PA128#v=onepage&q=%22method%20of%20theodorsen%20and%20garrick%22&f=false)"
   ]
  },
  {
   "cell_type": "markdown",
   "metadata": {},
   "source": [
    "---"
   ]
  },
  {
   "cell_type": "markdown",
   "metadata": {},
   "source": [
    "###### Пожалуйста, не обращайте внимания на ячейку ниже. При её исполнении загружаются стили для отображения блокнота."
   ]
  },
  {
   "cell_type": "code",
   "execution_count": 24,
   "metadata": {},
   "outputs": [
    {
     "data": {
      "text/html": [
       "<link href='http://fonts.googleapis.com/css?family=PT+Serif' rel='stylesheet' type='text/css'>\n",
       "<link href='http://fonts.googleapis.com/css?family=Alegreya+Sans:100,300,400,500,700,800,900,100italic,300italic,400italic,500italic,700italic,800italic,900italic' rel='stylesheet' type='text/css'>\n",
       "<link href='http://fonts.googleapis.com/css?family=Source+Code+Pro:300,400' rel='stylesheet' type='text/css'>\n",
       "<style>\n",
       "\n",
       "@font-face {\n",
       "    font-family: \"Computer Modern\";\n",
       "    src: url('http://mirrors.ctan.org/fonts/cm-unicode/fonts/otf/cmunss.otf');\n",
       "}\n",
       "\n",
       "\n",
       "#notebook_panel { /* main background */\n",
       "    background: rgb(245,245,245);\n",
       "}\n",
       "\n",
       "div.cell { /* set cell width */\n",
       "    width: 750px;\n",
       "}\n",
       "\n",
       "div #notebook { /* centre the content */\n",
       "    background: #fff; /* white background for content */\n",
       "    width: 1000px;\n",
       "    margin: auto;\n",
       "    padding-left: 0em;\n",
       "}\n",
       "\n",
       "#notebook li { /* More space between bullet points */\n",
       "margin-top:0.8em;\n",
       "}\n",
       "\n",
       "/* draw border around running cells */\n",
       "div.cell.border-box-sizing.code_cell.running { \n",
       "    border: 1px solid #111;\n",
       "}\n",
       "\n",
       "/* Put a solid color box around each cell and its output, visually linking them*/\n",
       "div.cell.code_cell {\n",
       "    background-color: rgb(256,256,256); \n",
       "    border-radius: 0px; \n",
       "    padding: 0.5em;\n",
       "    margin-left:1em;\n",
       "    margin-top: 1em;\n",
       "}\n",
       "\n",
       "\n",
       "div.text_cell_render{\n",
       "    font-family: 'Alegreya Sans', sans-serif;\n",
       "    line-height: 140%;\n",
       "    font-size: 125%;\n",
       "    font-weight: 400;\n",
       "    width:600px;\n",
       "    margin-left:auto;\n",
       "    margin-right:auto;\n",
       "}\n",
       "\n",
       "/* Formatting for header cells */\n",
       ".text_cell_render h1 {\n",
       "    font-family: 'Alegreya Sans', sans-serif;\n",
       "    font-style:regular;\n",
       "    font-weight: 200;    \n",
       "    font-size: 50pt;\n",
       "    line-height: 100%;\n",
       "    color:#CD2305;\n",
       "    margin-bottom: 0.5em;\n",
       "    margin-top: 0.5em;\n",
       "    display: block;\n",
       "}\t\n",
       ".text_cell_render h2 {\n",
       "    font-family: 'PT Serif', serif;\n",
       "    font-size: 22pt;\n",
       "    line-height: 100%;\n",
       "    margin-bottom: 0.1em;\n",
       "    margin-top: 0.3em;\n",
       "    display: block;\n",
       "}\t\n",
       "\n",
       ".text_cell_render h3 {\n",
       "    font-family: 'PT Serif', serif;\n",
       "    margin-top:12px;\n",
       "\tfont-size: 16pt;\n",
       "    margin-bottom: 3px;\n",
       "    font-style: regular;\n",
       "}\n",
       "\n",
       ".text_cell_render h4 {    /*Use this for captions*/\n",
       "    font-family: 'PT Serif', serif;\n",
       "    font-size: 12pt;\n",
       "    text-align: center;\n",
       "    margin-top: 0em;\n",
       "    margin-bottom: 2em;\n",
       "    font-style: regular;\n",
       "}\n",
       "\n",
       ".text_cell_render h5 {  /*Use this for small titles*/\n",
       "    font-family: 'Alegreya Sans', sans-serif;\n",
       "    font-weight: 300;\n",
       "    font-size: 16pt;\n",
       "    color: #CD2305;\n",
       "    font-style: italic;\n",
       "    margin-bottom: .5em;\n",
       "    margin-top: 0.5em;\n",
       "    display: block;\n",
       "}\n",
       "\n",
       ".text_cell_render h6 { /*use this for copyright note*/\n",
       "    font-family: 'Source Code Pro', sans-serif;\n",
       "    font-weight: 300;\n",
       "    font-size: 9pt;\n",
       "    line-height: 100%;\n",
       "    color: grey;\n",
       "    margin-bottom: 1px;\n",
       "    margin-top: 1px;\n",
       "}\n",
       "\n",
       "    .CodeMirror{\n",
       "            font-family: \"Consolas\";\n",
       "\t\t\tfont-size: 110%;\n",
       "    }\n",
       "/*    .prompt{\n",
       "        display: None;\n",
       "    }*/\n",
       "\t\n",
       "    \n",
       "    .warning{\n",
       "        color: rgb( 240, 20, 20 )\n",
       "        }  \n",
       "</style>\n",
       "<script>\n",
       "    MathJax.Hub.Config({\n",
       "                        TeX: {\n",
       "                           extensions: [\"AMSmath.js\"], \n",
       "                           equationNumbers: { autoNumber: \"AMS\", useLabelIds: true}\n",
       "                           },\n",
       "                tex2jax: {\n",
       "                    inlineMath: [ ['$','$'], [\"\\\\(\",\"\\\\)\"] ],\n",
       "                    displayMath: [ ['$$','$$'], [\"\\\\[\",\"\\\\]\"] ]\n",
       "                },\n",
       "                displayAlign: 'center', // Change this to 'center' to center equations.\n",
       "                \"HTML-CSS\": {\n",
       "                    styles: {'.MathJax_Display': {\"margin\": 4}}\n",
       "                }\n",
       "        });\n",
       "</script>\n"
      ],
      "text/plain": [
       "<IPython.core.display.HTML object>"
      ]
     },
     "execution_count": 24,
     "metadata": {},
     "output_type": "execute_result"
    }
   ],
   "source": [
    "from IPython.core.display import HTML\n",
    "def css_styling():\n",
    "    styles = open('../styles/custom.css', 'r').read()\n",
    "    return HTML(styles)\n",
    "css_styling()"
   ]
  }
 ],
 "metadata": {
  "kernelspec": {
   "display_name": "Python 3",
   "language": "python",
   "name": "python3"
  },
  "language_info": {
   "codemirror_mode": {
    "name": "ipython",
    "version": 3
   },
   "file_extension": ".py",
   "mimetype": "text/x-python",
   "name": "python",
   "nbconvert_exporter": "python",
   "pygments_lexer": "ipython3",
   "version": "3.6.4"
  }
 },
 "nbformat": 4,
 "nbformat_minor": 1
}
