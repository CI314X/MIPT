{
 "cells": [
  {
   "cell_type": "markdown",
   "metadata": {},
   "source": [
    "###### Текст распространяется на условиях лицензии Creative Commons Attribution license CC-BY 4.0, код — на условиях лицензии MIT license.  (c)2015 L.A. Barba, Pi-Yueh Chuang, Natalia Clementi."
   ]
  },
  {
   "cell_type": "markdown",
   "metadata": {},
   "source": [
    "##### Версия 0.1 -- Апрель 2018"
   ]
  },
  {
   "cell_type": "markdown",
   "metadata": {},
   "source": [
    "# Панельный метод вихрей-источников"
   ]
  },
  {
   "cell_type": "markdown",
   "metadata": {},
   "source": [
    "В [девятом занятии](09_Lesson09_flowOverCylinder.ipynb) курса _AeroPython_ вы узнали, как при помощи панельного метода источников получить обтекание кругового цилиндра, а в [десятом занятии](10_Lesson10_sourcePanelMethod.ipynb) использовали тот же метод для симметричного профиля под нулевым углом атаки. Но что делать, если нужно, чтобы профиль создавал подъемную силу? Если расположить профиль под углом атаки к набегающему потоку, подъемная сила обязательно появится, но получим ли мы ее, используя панельный метод источников? Поминте [теорему Кутты-Жуковского](https://ru.wikipedia.org/wiki/%D0%9F%D0%BE%D1%81%D1%82%D1%83%D0%BB%D0%B0%D1%82_%D0%96%D1%83%D0%BA%D0%BE%D0%B2%D1%81%D0%BA%D0%BE%D0%B3%D0%BE_%E2%80%94_%D0%A7%D0%B0%D0%BF%D0%BB%D1%8B%D0%B3%D0%B8%D0%BD%D0%B0)?\n",
    "\n",
    "\n",
    "Исторически, первым панельным методом был метод слоя источников. В то время компания Douglas Aircraft была озабочена расчетом течения около тел вращения, и только позднее, этот способ был обобщен для несущих поверхностей. (Ниже приведена ссылка на исторический обзор.)\n",
    "\n",
    "*Панельный метод источников* дает решение без циркуляции, а значит и без подъемной силы. Цель этого занятия состоит в том, чтобы, начав с панельного метода источников, реализованного на предыдущем занятии, добавить в него немного *циркуляции*. Будет введено важное понятие **условие Кутты-Жуковского**, благодаря которому можно определить необходимое значение циркуляции."
   ]
  },
  {
   "cell_type": "markdown",
   "metadata": {},
   "source": [
    "##### Ссылки\n",
    "\n",
    "* Smith, A.M.O., The Panel Method: Its Original Development. Глава в  _Applied Computational Aerodynamics_, Vol. 125, edited by P.A. Henne, published by AIAA (1990). [Доступно на Google Books.](http://books.google.com/books?id=5Ov2tHj0wxoC&lpg=PA3&ots=SnUiqcdEnb&dq=The%20Panel%20Method%3A%20Its%20Original%20Development&pg=PA3#v=onepage&q&f=false)"
   ]
  },
  {
   "cell_type": "markdown",
   "metadata": {},
   "source": [
    "## Панельный метод для несущего тела"
   ]
  },
  {
   "cell_type": "markdown",
   "metadata": {},
   "source": [
    "Если просто увеличить угол атаки набегающего потока и рассчитать течение панельным методом источников, задняя точка торможения не будет располагаться на задней кромке профиля. Вместо этого, поток будет огибать заднюю кромку, и точка торможения переместится куда-то на верхнюю поверхность пофиля. Такое решение нефизчно.\n",
    "\n",
    "Например, если воспользоваться методом источников из [занятия 10](10_Lesson10_sourcePanelMethod.ipynb) с углом атаки $\\alpha=4^\\circ$ (используем 40 панелей) и изобразить получившиеся линии тока в районе задней кромки, то мы увидим такую картину:\n",
    "\n",
    "<center><img src=\"./resources/StreamlinesTrailingEdge.png\" width=\"600\"></center>"
   ]
  },
  {
   "cell_type": "markdown",
   "metadata": {},
   "source": [
    "Как видно, на задней кромке линии тока ведут себя довольно странно. Экспериментально установлено, что поток обтекает заднюю кромку профиля плавно, поэтому полученное нами решение неверно. Что не так?  Для расчета потенциального обтекания профиля под ненулевым углом атаки нельзя использовать только источники — нужна циркуляция. Но как ее получить?\n",
    "\n",
    "## Условие Кутты-Жуковского\n",
    "\n",
    "Согласно условию Кутты-Жуковского, давление на верхней и нижней поверхностях профиля в районе задней кромки должно быть одинаковым, при этом поток не огибает заднюю кромку, а сходит с нее по касательной. Задняя точка торможения располагается точно на задней кромке профиля.\n",
    "\n",
    "Это, естественно, слегка озадачивает. Как обосновать такое, казалось бы, произвольное условие? Вспомним, что теория потенциальных течений полностью игнорирует вязкость жидкости, и поскольку мы оставляем за бортом важный физический эффект, нас не должно смущать, что получившаяся из таких предпосылок теория, требует некоторой настройки в случаях, когда вязкость играет важную роль. В реальности вязкая жидкость не может безотрывно развернуться вокруг острого угла, как в случае с задней кромкой крыла. Условие Кутты-Жуковского подправляет теорию потенциальных течений таким образом, чтобы решение приблизолось к ральности.\n",
    "\n",
    "Вспомните [шестое занятие](06_Lesson06_vortexLift.ipynb), в котором мы изучали подъемную силу цилиндра, комбинируя диполь с набегающим потоком и вихрем. Тогда мы выучили, что **для создания подъемной силы всегда нужна циркуляция**. Если вы экспериментировали с величиной циркуляции точечного вихря (а вы экспериментировали, правда же?), то обнаружили, что точки торможения перемещаются по цилиндру.\n",
    "\n",
    "В случае обтекания профиля, так же как и в случае кругового цилиндра, добавление циркуляции будет перемещать точку торможения по поверхности. И если добавить нужное количество циркуляции, можно сделать так, чтобы точка торможения оказалась на задней кромке профиля. Такая величина циркуляции сделает решение физичным. А также создаст нужную подъемную силу!\n",
    "\n",
    "Для реализации условия Кутты-Жуковского в нашем панельном методе нужно добавить в систему уравнений еще одно уравнение, решение которого позволит получить значение циркуляции, необходимое для перемещения точки торможения на заднюю кромку профиля. Поместив на каждую панель вихревой слой с одинаковой постоянной интенсивностью, мы добавим к течению циркуляцию, при этом получив одну дополнительную неизвестную. \n",
    "\n",
    "Как это оформть в виде кода? Мы можем повторно использовать большую часть кода из [урока 10](10_Lesson10_sourcePanelMethod.ipynb), и применять условие Кутты-Жуковского при добавлении циркуляции к потоку. Прежде мы разбивали геометрию на `N` панелей с источниками постоянной интенсивности (которая, однако, менялась от панели к панели) и требовали выполнения граничного условия Неймана для касательной компоненты скорости в каждом из `N` центров панелей. В результате получалась система `N` линейных уравнений с `N` неизвестными, которую мы решали при помощи функции `linalg.solve` библиотеки SciPy. В случае же несущего тела, мы получим `N+1` уравнение с `N+1` неизвестной. Читайте дальше, чтобы узнать как мы это сделаем!"
   ]
  },
  {
   "cell_type": "markdown",
   "metadata": {},
   "source": [
    "### Разбиение на панели"
   ]
  },
  {
   "cell_type": "markdown",
   "metadata": {},
   "source": [
    "Давайте быстро выполним все приготовления. Нужно импортировать наши любимые библиотеки и функцию `integrate` из SciPy, как и в занятии 10."
   ]
  },
  {
   "cell_type": "code",
   "execution_count": 1,
   "metadata": {},
   "outputs": [],
   "source": [
    "# импортируем нужные библиотеки и модули\n",
    "import os\n",
    "import numpy\n",
    "from scipy import integrate, linalg\n",
    "from matplotlib import pyplot\n",
    "\n",
    "# вставляем графику в блокнот\n",
    "%matplotlib inline"
   ]
  },
  {
   "cell_type": "markdown",
   "metadata": {},
   "source": [
    "Начнем с зачитывания геометрии профиля NACA0012 из файла с данными и нарисуем получившийся профиль:"
   ]
  },
  {
   "cell_type": "code",
   "execution_count": 2,
   "metadata": {},
   "outputs": [],
   "source": [
    "# загружаем геометрию из файла с данными\n",
    "naca_filepath = os.path.join('resources', 'naca0012.dat')\n",
    "with open(naca_filepath, 'r') as infile:\n",
    "    x, y = numpy.loadtxt(infile, dtype=float, unpack=True)"
   ]
  },
  {
   "cell_type": "code",
   "execution_count": 3,
   "metadata": {},
   "outputs": [
    {
     "data": {
      "image/png": "[encoded data removed]",
      "text/plain": [
       "<matplotlib.figure.Figure at 0x1ee9bf65a90>"
      ]
     },
     "metadata": {},
     "output_type": "display_data"
    }
   ],
   "source": [
    "# рисуем геометрию\n",
    "width = 10\n",
    "pyplot.figure(figsize=(width, width))\n",
    "pyplot.grid()\n",
    "pyplot.xlabel('x', fontsize=16)\n",
    "pyplot.ylabel('y', fontsize=16)\n",
    "pyplot.plot(x, y, color='k', linestyle='-', linewidth=2)\n",
    "pyplot.axis('scaled', adjustable='box')\n",
    "pyplot.xlim(-0.1, 1.1)\n",
    "pyplot.ylim(-0.1, 0.1);"
   ]
  },
  {
   "cell_type": "markdown",
   "metadata": {},
   "source": [
    "Линию, определяющую профиль, разобьем на `N` панелей, используя тот же подход, что и в [занятии 10](10_Lesson10_sourcePanelMethod.ipynb).\n",
    "\n",
    "Далее определим класс `Panel`, в котором будет содержаться вся информация о панели: начальная и конечная точки, центр, ориентация, длина, интенсивность источника, касательная компонента скорости и коэффициент давления. Интенсивность вихревого слоя мы хранить не будем, поскольку она одинакова для всех панелей."
   ]
  },
  {
   "cell_type": "code",
   "execution_count": 4,
   "metadata": {},
   "outputs": [],
   "source": [
    "class Panel:\n",
    "    \"\"\"\n",
    "    Contains information related to a panel.\n",
    "    \"\"\"\n",
    "    def __init__(self, xa, ya, xb, yb):\n",
    "        \"\"\"\n",
    "        Initializes the panel.\n",
    "        \n",
    "        Sets the end-points and calculates the center-point, length,\n",
    "        and angle (with the x-axis) of the panel.\n",
    "        Defines if the panel is located on the upper or lower surface of the geometry.\n",
    "        Initializes the source-strength, tangential velocity, and pressure coefficient\n",
    "        of the panel to zero.\n",
    "        \n",
    "        Parameters\n",
    "        ---------_\n",
    "        xa: float\n",
    "            x-coordinate of the first end-point.\n",
    "        ya: float\n",
    "            y-coordinate of the first end-point.\n",
    "        xb: float\n",
    "            x-coordinate of the second end-point.\n",
    "        yb: float\n",
    "            y-coordinate of the second end-point.\n",
    "        \"\"\"\n",
    "        self.xa, self.ya = xa, ya # начальная точка панели\n",
    "        self.xb, self.yb = xb, yb # конечная точка панели\n",
    "        \n",
    "        self.xc, self.yc = (xa+xb)/2, (ya+yb)/2         # центр панели\n",
    "        self.length = numpy.sqrt((xb-xa)**2+(yb-ya)**2) # длина панели\n",
    "        \n",
    "        # ориентация панели (угол между нормалью и осью x)\n",
    "        if xb-xa <= 0.0:\n",
    "            self.beta = numpy.arccos((yb-ya)/self.length)\n",
    "        elif xb-xa > 0.0:\n",
    "            self.beta = numpy.pi + numpy.arccos(-(yb-ya)/self.length)\n",
    "        \n",
    "        # расположение панели\n",
    "        if self.beta <= numpy.pi:\n",
    "            self.loc = 'upper' # верхняя поверхность\n",
    "        else:\n",
    "            self.loc = 'lower' # нижняя поверхность\n",
    "        \n",
    "        self.sigma = 0.0 # интенсивность источника\n",
    "        self.vt = 0.0    # касательная скорость\n",
    "        self.cp = 0.0    # коэффициент давления"
   ]
  },
  {
   "cell_type": "markdown",
   "metadata": {},
   "source": [
    "Как и ранее, для разбиения геометрии профиля на `N` панелей, вызовем функцию `define_panels` Эта функция возвращает NumPy массив, состоящий из `N` объектов типа `Panel`."
   ]
  },
  {
   "cell_type": "code",
   "execution_count": 5,
   "metadata": {},
   "outputs": [],
   "source": [
    "def define_panels(x, y, N=40):\n",
    "    \"\"\"\n",
    "    Discretizes the geometry into panels using 'cosine' method.\n",
    "    \n",
    "    Parameters\n",
    "    ----------\n",
    "    x: 1D array of floats\n",
    "        x-coordinate of the points defining the geometry.\n",
    "    y: 1D array of floats\n",
    "        y-coordinate of the points defining the geometry.\n",
    "    N: integer, optional\n",
    "        Number of panels;\n",
    "        default: 40.\n",
    "    \n",
    "    Returns\n",
    "    -------\n",
    "    panels: 1D Numpy array of Panel objects.\n",
    "        The list of panels.\n",
    "    \"\"\"\n",
    "    \n",
    "    R = (x.max()-x.min())/2.0        # радиус окружности\n",
    "    x_center = (x.max()+x.min())/2.0 # x-координата центра\n",
    "    \n",
    "    theta = numpy.linspace(0.0, 2.0*numpy.pi, N+1) # массив углов\n",
    "    x_circle = x_center +  R*numpy.cos(theta)      # x-координаты точек окружности\n",
    "    \n",
    "    x_ends = numpy.copy(x_circle)     # x-координаиты конечных точек панелей\n",
    "    y_ends = numpy.empty_like(x_ends) # y-координаиты конечных точек панелей\n",
    "    \n",
    "    # добавляем точку, чтобы получить замкнутую линию\n",
    "    x, y = numpy.append(x, x[0]), numpy.append(y, y[0])\n",
    "    \n",
    "    # вычисляем y-координаты конечных точек при помощи проецирования\n",
    "    I = 0\n",
    "    for i in range(N):\n",
    "        while I < len(x)-1:\n",
    "            if (x[I] <= x_ends[i] <= x[I+1]) or (x[I+1] <= x_ends[i] <= x[I]):\n",
    "                break\n",
    "            else:\n",
    "                I += 1\n",
    "        a = (y[I+1]-y[I])/(x[I+1]-x[I])\n",
    "        b = y[I+1] - a*x[I+1]\n",
    "        y_ends[i] = a*x_ends[i] + b\n",
    "    y_ends[N] = y_ends[0]\n",
    "    \n",
    "    # создаем панели\n",
    "    panels = numpy.empty(N, dtype=object)\n",
    "    for i in range(N):\n",
    "        panels[i] = Panel(x_ends[i], y_ends[i], x_ends[i+1], y_ends[i+1])\n",
    "    \n",
    "    return panels"
   ]
  },
  {
   "cell_type": "markdown",
   "metadata": {},
   "source": [
    "Теперь можно воспользоваться новыми функциями: создать геометрию, разбить ее на панели и нарисовать получившееся распределение узлов."
   ]
  },
  {
   "cell_type": "code",
   "execution_count": 6,
   "metadata": {},
   "outputs": [],
   "source": [
    "# разбиваем геометрию на панели\n",
    "panels = define_panels(x, y, N=40)"
   ]
  },
  {
   "cell_type": "code",
   "execution_count": 7,
   "metadata": {},
   "outputs": [
    {
     "data": {
      "image/png": "[encoded data removed]",
      "text/plain": [
       "<matplotlib.figure.Figure at 0x1ee9c4c4f98>"
      ]
     },
     "metadata": {},
     "output_type": "display_data"
    }
   ],
   "source": [
    "# рисуем дискретизированую геометрию\n",
    "width = 10\n",
    "pyplot.figure(figsize=(width, width))\n",
    "pyplot.grid()\n",
    "pyplot.xlabel('x', fontsize=16)\n",
    "pyplot.ylabel('y', fontsize=16)\n",
    "pyplot.plot(x, y, color='k', linestyle='-', linewidth=2)\n",
    "pyplot.plot(numpy.append([panel.xa for panel in panels], panels[0].xa),\n",
    "            numpy.append([panel.ya for panel in panels], panels[0].ya),\n",
    "            linestyle='-', linewidth=1, marker='o', markersize=6, \\\n",
    "            color='#CD2305')\n",
    "pyplot.axis('scaled', adjustable='box')\n",
    "pyplot.xlim(-0.1, 1.1)\n",
    "pyplot.ylim(-0.1, 0.1);"
   ]
  },
  {
   "cell_type": "markdown",
   "metadata": {},
   "source": [
    "### Параметры набегающего потока\n",
    "\n",
    "Профиль помещен в поток с характеристиками $(U_\\infty$,$\\alpha)$, где  $U_\\infty$ и $\\alpha$ — скорость на бесконечности и угол атаки соответственно. Как и раньше, мы создадим класс для свободного потока, хоть у нас и будет только один объект этого класса. Зато потом так будет проще передавать параметры набегающего потока в другие функции."
   ]
  },
  {
   "cell_type": "code",
   "execution_count": 8,
   "metadata": {},
   "outputs": [],
   "source": [
    "class Freestream:\n",
    "    \"\"\"\n",
    "    Freestream conditions.\n",
    "    \"\"\"\n",
    "    def __init__(self, u_inf=1.0, alpha=0.0):\n",
    "        \"\"\"\n",
    "        Sets the freestream speed and angle (in degrees).\n",
    "        \n",
    "        Parameters\n",
    "        ----------\n",
    "        u_inf: float, optional\n",
    "            Freestream speed;\n",
    "            default: 1.0.\n",
    "        alpha: float, optional\n",
    "            Angle of attack in degrees;\n",
    "            default 0.0.\n",
    "        \"\"\"\n",
    "        self.u_inf = u_inf\n",
    "        self.alpha = alpha*numpy.pi/180.0 # градусы в радианы"
   ]
  },
  {
   "cell_type": "code",
   "execution_count": 9,
   "metadata": {},
   "outputs": [],
   "source": [
    "# задаем параметры набегающего потока\n",
    "freestream = Freestream(u_inf=1.0, alpha=4.0)"
   ]
  },
  {
   "cell_type": "markdown",
   "metadata": {},
   "source": [
    "### Граничное условие для потока на поверхности тела\n",
    "\n",
    "К каждой панели добавляется вихрь с интенсивностью $\\gamma$.  Тогда, согласно принципу суперпозиции, потенциал скорости записывается в виде:\n",
    "\n",
    "$$\n",
    "\\begin{align*}\n",
    "\\phi\\left(x_{c_i},y_{c_i}\\right) &= V_\\infty x_{c_i} \\cos \\alpha + V_\\infty y_{c_i} \\sin \\alpha \\\\\n",
    "&+ \\sum_{j=1}^N \\frac{\\sigma_j}{2\\pi} \\int_j \\ln \\left(\\sqrt{(x_{c_i}-x_j(s_j))^2+(y_{c_i}-y_j(s_j))^2} \\right) {\\rm d}s_j \\\\\n",
    "&- \\sum_{j=1}^N \\frac{\\gamma}{2\\pi} \\int_j \\tan^{-1} \\left(\\frac{y_{c_i}-y_j(s_j)}{x_{c_i}-x_j(s_j)}\\right) {\\rm d}s_j\n",
    "\\end{align*}\n",
    "$$\n",
    "\n",
    "Условие касательности потока записывается для центра каждой панели:\n",
    "\n",
    "$$0 = \\vec{V}\\cdot\\vec{n}_i = \\frac{\\partial}{\\partial n_i} \\left\\{ \\phi\\left(x_{c_i},y_{c_i}\\right) \\right\\}$$\n",
    "\n",
    "то есть\n",
    "\n",
    "$$\n",
    "\\begin{align*}\n",
    "0 &= V_\\infty \\cos \\left(\\alpha-\\beta_i\\right) + \\frac{\\sigma_i}{2} \\\\\n",
    "&+ \\sum_{j=1,j\\neq i}^N \\frac{\\sigma_j}{2\\pi} \\int_j \\frac{\\partial}{\\partial n_i} \\ln \\left(\\sqrt{(x_{c_i}-x_j(s_j))^2+(y_{c_i}-y_j(s_j))^2} \\right) {\\rm d}s_j \\\\\n",
    "&- \\sum_{j=1,j\\neq i}^N \\frac{\\gamma}{2\\pi} \\int_j \\frac{\\partial}{\\partial n_i} \\tan^{-1} \\left(\\frac{y_{c_i}-y_j(s_j)}{x_{c_i}-x_j(s_j)}\\right) {\\rm d}s_j\n",
    "\\end{align*}\n",
    "$$\n",
    "\n",
    "На предыдущем занятии мы уже работали с первым интегралом:\n",
    "\n",
    "$$\\frac{\\partial}{\\partial n_i} \\ln \\left(\\sqrt{(x_{c_i}-x_j(s_j))^2+(y_{c_i}-y_j(s_j))^2} \\right) = \\frac{\\left(x_{c_i}-x_j\\right)\\frac{\\partial x_{c_i}}{\\partial n_i} + \\left(y_{c_i}-y_j\\right)\\frac{\\partial y_{c_i}}{\\partial n_i}}{\\left(x_{c_i}-x_j\\right)^2 + \\left(y_{c_i}-y_j\\right)^2}$$\n",
    "\n",
    "где $\\frac{\\partial x_{c_i}}{\\partial n_i} = \\cos \\beta_i$ и $\\frac{\\partial y_{c_i}}{\\partial n_i} = \\sin \\beta_i$, и\n",
    "\n",
    "$$x_j(s_j) = x_{b_j} - s_j \\sin \\beta_j$$\n",
    "\n",
    "$$y_j(s_j) = y_{b_j} + s_j \\cos \\beta_j$$\n",
    "\n",
    "Теперь нам нужно вывести последний интеграл в уравнении для граничного условия:\n",
    "\n",
    "$$\\frac{\\partial}{\\partial n_i} \\tan^{-1} \\left(\\frac{y_{c_i}-y_j(s_j)}{x_{c_i}-x_j(s_j)}\\right)= \\frac{\\left(x_{c_i}-x_j\\right)\\frac{\\partial y_{c_i}}{\\partial n_i} - \\left(y_{c_i}-y_j\\right)\\frac{\\partial x_{c_i}}{\\partial n_i}}{\\left(x_{c_i}-x_j\\right)^2 + \\left(y_{c_i}-y_j\\right)^2}$$\n",
    "\n",
    "где $\\frac{\\partial x_{c_i}}{\\partial n_i} = \\cos \\beta_i$ и $\\frac{\\partial y_{c_i}}{\\partial n_i} = \\sin \\beta_i$."
   ]
  },
  {
   "cell_type": "markdown",
   "metadata": {},
   "source": [
    "### Выполнение условия Кутты-Жуковского\n",
    "\n",
    "Для выполнения *условия Кутты-Жуковского* потребуем, чтобы коэффициенты давления на первой и последней панелях совпадали:\n",
    "\n",
    "$$C_{p_1} = C_{p_{N}}$$\n",
    "\n",
    "Исходя из определения коэффициента давления $C_p = 1-\\left(\\frac{V}{U_\\infty}\\right)^2$, условие Кутты-Жуковского подразумевает, что величины скоростей в центрах первой и последней панелей должны совпадать:\n",
    "\n",
    "$$V_1^2 = V_N^2$$\n",
    "\n",
    "Поскольку условие непротекания требует, чтобы $V_{n_1} = V_{n_N} = 0$, мы приходим к следующей формулировке *условия Кутты-Жуковского*:\n",
    "\n",
    "$$V_{t_1} = - V_{t_N}$$\n",
    "\n",
    "(знак \"минус\" обусловлени выбором осей для определения нормального и касательного направлений)."
   ]
  },
  {
   "cell_type": "markdown",
   "metadata": {},
   "source": [
    "Получим выражение для касательных компонент скорости на каждой панели, это потребуется нам позже для вычисления коэффициента давления.\n",
    "\n",
    "$$V_{t_i} = \\frac{\\partial}{\\partial t_i} \\left(\\phi\\left(x_{c_i},y_{c_i}\\right)\\right)$$\n",
    "\n",
    "то есть\n",
    "\n",
    "$$\n",
    "\\begin{align*}\n",
    "V_{t_i} &= V_\\infty \\sin \\left(\\alpha-\\beta_i\\right) \\\\\n",
    "&+ \\sum_{j=1,j\\neq i}^N \\frac{\\sigma_j}{2\\pi} \\int_j \\frac{\\partial}{\\partial t_i} \\ln \\left(\\sqrt{(x_{c_i}-x_j(s_j))^2+(y_{c_i}-y_j(s_j))^2} \\right) {\\rm d}s_j \\\\\n",
    "&- \\sum_{j=1,j\\neq i}^N \\frac{\\gamma}{2\\pi} \\int_j \\frac{\\partial}{\\partial t_i} \\tan^{-1} \\left(\\frac{y_{c_i}-y_j(s_j)}{x_{c_i}-x_j(s_j)}\\right) {\\rm d}s_j \\\\\n",
    "&-\\frac{\\gamma}{2}\n",
    "\\end{align*}\n",
    "$$\n",
    "\n",
    "\n",
    "что дает\n",
    "\n",
    "$$\n",
    "\\begin{align*}\n",
    "V_{t_i} &= V_\\infty \\sin \\left(\\alpha-\\beta_i\\right) \\\\\n",
    "&+ \\sum_{j=1,j\\neq i}^N \\frac{\\sigma_j}{2\\pi} \\int_j \\frac{\\left(x_{c_i}-x_j\\right)\\frac{\\partial x_{c_i}}{\\partial t_i} + \\left(y_{c_i}-y_j\\right)\\frac{\\partial y_{c_i}}{\\partial t_i}}{\\left(x_{c_i}-x_j\\right)^2 + \\left(y_{c_i}-y_j\\right)^2} {\\rm d}s_j \\\\\n",
    "&- \\sum_{j=1,j\\neq i}^N \\frac{\\gamma}{2\\pi} \\int_j \\frac{\\left(x_{c_i}-x_j\\right)\\frac{\\partial y_{c_i}}{\\partial t_i} - \\left(y_{c_i}-y_j\\right)\\frac{\\partial x_{c_i}}{\\partial t_i}}{\\left(x_{c_i}-x_j\\right)^2 + \\left(y_{c_i}-y_j\\right)^2} {\\rm d}s_j \\\\\n",
    "&-\\frac{\\gamma}{2}\n",
    "\\end{align*}\n",
    "$$\n",
    "\n",
    "где $\\frac{\\partial x_{c_i}}{\\partial t_i} = -\\sin \\beta_i$ и $\\frac{\\partial y_{c_i}}{\\partial t_i} = \\cos \\beta_i$."
   ]
  },
  {
   "cell_type": "markdown",
   "metadata": {},
   "source": [
    "## Построение системы линейных уравнений\n",
    "\n",
    "В этом разделе мы составим и решим систему линейных уравнений в виде\n",
    "\n",
    "$$[A][\\sigma,\\gamma] = [b]$$\n",
    "\n",
    "где матрица $[A]$ размерности $N+1 \\times N+1$ состоит из трех блоков: матрицы источников размерности $N \\times N$ (такая же, как в занятии 10), массива вихрей $N \\times 1$ , в котором хранятся весовые коэффициенты переменной $\\gamma$ каждой панели и массива $1 \\times N+1$, соответсвтующего условию Кутты-Жуковского.\n",
    "\n",
    "Мы собираемся повторно использовать функцию `integral` из [занятия 10](10_Lesson10_sourcePanelMethod.ipynb) для вычисления различных интегралов с помощью SciPy функции `integrate.quad`:"
   ]
  },
  {
   "cell_type": "code",
   "execution_count": 10,
   "metadata": {},
   "outputs": [],
   "source": [
    "def integral(x, y, panel, dxdk, dydk):\n",
    "    \"\"\"\n",
    "    Evaluates the contribution from a panel at a given point.\n",
    "    \n",
    "    Parameters\n",
    "    ----------\n",
    "    x: float\n",
    "        x-coordinate of the target point.\n",
    "    y: float\n",
    "        y-coordinate of the target point.\n",
    "    panel: Panel object\n",
    "        Panel whose contribution is evaluated.\n",
    "    dxdk: float\n",
    "        Value of the derivative of x in a certain direction.\n",
    "    dydk: float\n",
    "        Value of the derivative of y in a certain direction.\n",
    "    \n",
    "    Returns\n",
    "    -------\n",
    "    Contribution from the panel at a given point (x, y).\n",
    "    \"\"\"\n",
    "    def integrand(s):\n",
    "        return ( ((x - (panel.xa - numpy.sin(panel.beta)*s))*dxdk\n",
    "                  +(y - (panel.ya + numpy.cos(panel.beta)*s))*dydk)\n",
    "                / ((x - (panel.xa - numpy.sin(panel.beta)*s))**2\n",
    "                   +(y - (panel.ya + numpy.cos(panel.beta)*s))**2) )\n",
    "    return integrate.quad(integrand, 0.0, panel.length)[0]"
   ]
  },
  {
   "cell_type": "markdown",
   "metadata": {},
   "source": [
    "Сначала определим функцию `source_contribution_normal` для создания матрицы источник в нормальную компоненту скорости каждой панели:"
   ]
  },
  {
   "cell_type": "code",
   "execution_count": 11,
   "metadata": {},
   "outputs": [],
   "source": [
    "def source_contribution_normal(panels):\n",
    "    \"\"\"\n",
    "    Builds the source contribution matrix for the normal velocity.\n",
    "    \n",
    "    Parameters\n",
    "    ----------\n",
    "    panels: 1D array of Panel objects\n",
    "        List of panels.\n",
    "    \n",
    "    Returns\n",
    "    -------\n",
    "    A: 2D Numpy array of floats\n",
    "        Source contribution matrix.\n",
    "    \"\"\"\n",
    "    A = numpy.empty((panels.size, panels.size), dtype=float)\n",
    "    # вклад рассматриваемой панели в общее поле источников\n",
    "    numpy.fill_diagonal(A, 0.5)\n",
    "    # вклад остальных панелей\n",
    "    for i, panel_i in enumerate(panels):\n",
    "        for j, panel_j in enumerate(panels):\n",
    "            if i != j:\n",
    "                A[i, j] = 0.5/numpy.pi*integral(panel_i.xc, panel_i.yc, \n",
    "                                                panel_j,\n",
    "                                                numpy.cos(panel_i.beta),\n",
    "                                                numpy.sin(panel_i.beta))\n",
    "    return A"
   ]
  },
  {
   "cell_type": "markdown",
   "metadata": {},
   "source": [
    "Затем, определим `vortex_contribution_normal` для создания матрицы вихрей:"
   ]
  },
  {
   "cell_type": "code",
   "execution_count": 12,
   "metadata": {},
   "outputs": [],
   "source": [
    "def vortex_contribution_normal(panels):\n",
    "    \"\"\"\n",
    "    Builds the vortex contribution matrix for the normal velocity.\n",
    "    \n",
    "    Parameters\n",
    "    ----------\n",
    "    panels: 1D array of Panel objects\n",
    "        List of panels.\n",
    "    \n",
    "    Returns\n",
    "    -------\n",
    "    A: 2D Numpy array of floats\n",
    "        Vortex contribution matrix.\n",
    "    \"\"\"\n",
    "    A = numpy.empty((panels.size, panels.size), dtype=float)\n",
    "    # вклад от рассматриваемой панели в поле вихря\n",
    "    numpy.fill_diagonal(A, 0.0)\n",
    "    # вихревой вклад от всех остальных панелей\n",
    "    for i, panel_i in enumerate(panels):\n",
    "        for j, panel_j in enumerate(panels):\n",
    "            if i != j:\n",
    "                A[i, j] = -0.5/numpy.pi*integral(panel_i.xc, panel_i.yc, \n",
    "                                                 panel_j,\n",
    "                                                 numpy.sin(panel_i.beta),\n",
    "                                                 -numpy.cos(panel_i.beta))\n",
    "    return A"
   ]
  },
  {
   "cell_type": "markdown",
   "metadata": {},
   "source": [
    "Вызовем обе эти функции для создания матрицы источников `A_source` и вихрей `B_vortex`:"
   ]
  },
  {
   "cell_type": "code",
   "execution_count": 13,
   "metadata": {},
   "outputs": [],
   "source": [
    "A_source = source_contribution_normal(panels)\n",
    "B_vortex = vortex_contribution_normal(panels)"
   ]
  },
  {
   "cell_type": "markdown",
   "metadata": {},
   "source": [
    "Остается добавить условие Кутты-Жуковского в нашу систему уравнений.\n",
    "\n",
    "После этого занятия будет еще [упражнение](11_Lesson11_Exercise.ipynb), которое поможет вам убедиться в том, что:\n",
    "\n",
    "* матрица, соответствующая вкладам вихрей в нормальную компоненту скорости $B^n$, **в точности** равна матрице, соответствующей вкладам источников в касательную компоненту скорости $A^t$, то есть:\n",
    "\n",
    "$$B^n_{ij}=A^t_{ij} \\quad \\forall (i, j) \\in \\{1, \\cdots, N\\}^2$$\n",
    "\n",
    "* матрица, соответсвующая вкладам вихрей в касательную компоненту скорости $B^t$, **противоположна** по знаку матрице, соответствующей вкладам источников в нормальную компоненту скорости $A^n$, то есть:\n",
    "\n",
    "$$B^t_{ij}=-A^n_{ij} \\quad \\forall (i, j) \\in \\{1, \\cdots, N\\}^2$$\n",
    "\n",
    "где индексы $n$ и $t$ обозначают нормальную и касательную компоненты скорости соответсвенно.\n",
    "\n",
    "Таким образом, условие Кутты-Жуковского можно сформулировать в следующем виде\n",
    "\n",
    "$$\n",
    "\\begin{bmatrix}\n",
    "(A^t_{11}+A^t_{N1}) \\\\\n",
    "\\vdots \\\\\n",
    "(A^t_{1N}+A^t_{NN}) \\\\\n",
    "\\left( \\sum_{j=1}^N (B^t_{1j}+B^t_{Nj}) \\right)\n",
    "\\end{bmatrix}^T\n",
    "\\begin{bmatrix}\n",
    "\\sigma_1 \\\\\n",
    "\\vdots \\\\\n",
    "\\sigma_N \\\\\n",
    "\\gamma\n",
    "\\end{bmatrix}\n",
    "=\n",
    "-(b^t_1+b^t_N)\n",
    "$$\n",
    "\n",
    "Определим функцию `kutta_condition`, которая сделает всю работу за нас:\n"
   ]
  },
  {
   "cell_type": "code",
   "execution_count": 14,
   "metadata": {},
   "outputs": [],
   "source": [
    "def kutta_condition(A_source, B_vortex):\n",
    "    \"\"\"\n",
    "    Builds the Kutta condition array.\n",
    "    \n",
    "    Parameters\n",
    "    ----------\n",
    "    A_source: 2D Numpy array of floats\n",
    "        Source contribution matrix for the normal velocity.\n",
    "    B_vortex: 2D Numpy array of floats\n",
    "        Vortex contribution matrix for the normal velocity.\n",
    "    \n",
    "    Returns\n",
    "    -------\n",
    "    b: 1D Numpy array of floats\n",
    "        The left-hand side of the Kutta-condition equation.\n",
    "    \"\"\"\n",
    "    b = numpy.empty(A_source.shape[0]+1, dtype=float)\n",
    "    # матрица вкладов источников в тангенциальную составляющую скорости\n",
    "    # равна\n",
    "    # матрице вкладов вихрей в нормальную составляющую скорости\n",
    "    b[:-1] = B_vortex[0, :] + B_vortex[-1, :]\n",
    "    # матрица вкладов вихрей в тангенциальную составляющую скорости\n",
    "    # противоположна по знаку\n",
    "    # матрице вкладов источников в нормальную составляющую скорости\n",
    "    b[-1] = - numpy.sum(A_source[0, :] + A_source[-1, :])\n",
    "    return b"
   ]
  },
  {
   "cell_type": "markdown",
   "metadata": {},
   "source": [
    "Теперь у нас есть все необходимые ингредиенты.  Функция `build_singularity_matrix` соберет вместе матрицы источников, вихрей и условия Кутты-Жуковского и сформирует матрицу, необходимую для решения системы линейных уравнений."
   ]
  },
  {
   "cell_type": "code",
   "execution_count": 15,
   "metadata": {},
   "outputs": [],
   "source": [
    "def build_singularity_matrix(A_source, B_vortex):\n",
    "    \"\"\"\n",
    "    Builds the left-hand side matrix of the system\n",
    "    arising from source and vortex contributions.\n",
    "    \n",
    "    Parameters\n",
    "    ----------\n",
    "    A_source: 2D Numpy array of floats\n",
    "        Source contribution matrix for the normal velocity.\n",
    "    B_vortex: 2D Numpy array of floats\n",
    "        Vortex contribution matrix for the normal velocity.\n",
    "    \n",
    "    Returns\n",
    "    -------\n",
    "    A:  2D Numpy array of floats\n",
    "        Matrix of the linear system.\n",
    "    \"\"\"\n",
    "    A = numpy.empty((A_source.shape[0]+1, A_source.shape[1]+1), \\\n",
    "                    dtype=float)\n",
    "    # матрица источников\n",
    "    A[:-1, :-1] = A_source\n",
    "    # матрица вихрей\n",
    "    A[:-1, -1] = numpy.sum(B_vortex, axis=1)\n",
    "    # условие Кутты-Жуковского\n",
    "    A[-1, :] = kutta_condition(A_source, B_vortex)\n",
    "    return A"
   ]
  },
  {
   "cell_type": "markdown",
   "metadata": {},
   "source": [
    "В правой стороне уравнения содержится все, что не зависит от неизвестных интенсивностей."
   ]
  },
  {
   "cell_type": "code",
   "execution_count": 16,
   "metadata": {},
   "outputs": [],
   "source": [
    "def build_freestream_rhs(panels, freestream):\n",
    "    \"\"\"\n",
    "    Builds the right-hand side of the system \n",
    "    arising from the freestream contribution.\n",
    "    \n",
    "    Parameters\n",
    "    ----------\n",
    "    panels: 1D array of Panel objects\n",
    "        List of panels.\n",
    "    freestream: Freestream object\n",
    "        Freestream conditions.\n",
    "    \n",
    "    Returns\n",
    "    -------\n",
    "    b: 1D Numpy array of floats\n",
    "        Freestream contribution on each panel and on the Kutta condition.\n",
    "    \"\"\"\n",
    "    b = numpy.empty(panels.size+1,dtype=float)\n",
    "    # вклад от набегающего потока в каждую панель\n",
    "    for i, panel in enumerate(panels):\n",
    "        b[i] = -freestream.u_inf * numpy.cos(freestream.alpha - panel.beta)\n",
    "    # вклад от набегающего потока в условие Кутты-Жуковского\n",
    "    b[-1] = -freestream.u_inf*( numpy.sin(freestream.alpha-panels[0].beta)\n",
    "                               +numpy.sin(freestream.alpha-panels[-1].beta) )\n",
    "    return b"
   ]
  },
  {
   "cell_type": "code",
   "execution_count": 17,
   "metadata": {},
   "outputs": [],
   "source": [
    "A = build_singularity_matrix(A_source, B_vortex)\n",
    "b = build_freestream_rhs(panels, freestream)"
   ]
  },
  {
   "cell_type": "markdown",
   "metadata": {},
   "source": [
    "Как и на предыдущем занятии, систему линейных уравнений будем решать при помщи SciPy функции `linalg.solve`. Затем мы сохраним результаты в атрибуте `sigma` каждого объетка класса `Panel`. Мы также создадим переменную `gamma`, в которой будет храниться постоянная интенсивность вихря."
   ]
  },
  {
   "cell_type": "code",
   "execution_count": 20,
   "metadata": {},
   "outputs": [],
   "source": [
    "# рассчитываем интенсивности источников и вихря\n",
    "strengths = numpy.linalg.solve(A, b)\n",
    "\n",
    "# заполняем интенсивности на кажой панели\n",
    "for i , panel in enumerate(panels):\n",
    "    panel.sigma = strengths[i]\n",
    "    \n",
    "# запоминаем циркуляцию\n",
    "gamma = strengths[-1]"
   ]
  },
  {
   "cell_type": "markdown",
   "metadata": {},
   "source": [
    "## Коэффициент давления на поверхности\n",
    "\n",
    "Коэффициент давления в центре $i$-ой панели:\n",
    "\n",
    "$$C_{p_i} = 1 - \\left(\\frac{V_{t_i}}{U_\\infty}\\right)^2$$\n",
    "\n",
    "Итак, нужно вычислить касательную компоненту скорости в центре каждой панели, при помощи функции `compute_tangential_velocity`:"
   ]
  },
  {
   "cell_type": "code",
   "execution_count": 21,
   "metadata": {},
   "outputs": [],
   "source": [
    "def compute_tangential_velocity(panels, freestream, gamma, A_source, B_vortex):\n",
    "    \"\"\"\n",
    "    Computes the tangential surface velocity.\n",
    "    \n",
    "    Parameters\n",
    "    ----------\n",
    "    panels: 1D array of Panel objects\n",
    "        List of panels.\n",
    "    freestream: Freestream object\n",
    "        Freestream conditions.\n",
    "    gamma: float\n",
    "        Circulation density.\n",
    "    A_source: 2D Numpy array of floats\n",
    "        Source contribution matrix for the normal velocity.\n",
    "    B_vortex: 2D Numpy array of floats\n",
    "        Vortex contribution matrix for the normal velocity.\n",
    "    \"\"\"\n",
    "    A = numpy.empty((panels.size, panels.size+1), dtype=float)\n",
    "    # матрица вкладов источников в тангенциальную составляющую скорости\n",
    "    # равна\n",
    "    # матрице вкладов вихрей в нормальную составляющую скорости\n",
    "    A[:, :-1] = B_vortex\n",
    "    # матрица вкладов вихрей в тангенциальную составляющую скорости\n",
    "    # противоположна по знаку\n",
    "    # матрице вкладов источников в нормальную составляющую скорости\n",
    "    A[:, -1] = -numpy.sum(A_source, axis=1)\n",
    "    # добавляем набегающий поток\n",
    "    b = freestream.u_inf*numpy.sin([freestream.alpha-panel.beta \n",
    "                                    for panel in panels])\n",
    "    \n",
    "    strengths = numpy.append([panel.sigma for panel in panels], gamma)\n",
    "    \n",
    "    tangential_velocities = numpy.dot(A, strengths) + b\n",
    "    \n",
    "    for i, panel in enumerate(panels):\n",
    "        panel.vt = tangential_velocities[i]"
   ]
  },
  {
   "cell_type": "code",
   "execution_count": 22,
   "metadata": {},
   "outputs": [],
   "source": [
    "# касательная компонента скорости на каждой панели\n",
    "compute_tangential_velocity(panels, freestream, gamma, A_source, B_vortex)"
   ]
  },
  {
   "cell_type": "markdown",
   "metadata": {},
   "source": [
    "И еще определим функцию `compute_pressure_coefficient`, чтобы вычислить коэффициент давления на поверхности:"
   ]
  },
  {
   "cell_type": "code",
   "execution_count": 23,
   "metadata": {},
   "outputs": [],
   "source": [
    "def compute_pressure_coefficient(panels, freestream):\n",
    "    \"\"\"\n",
    "    Computes the surface pressure coefficients.\n",
    "    \n",
    "    Parameters\n",
    "    ----------\n",
    "    panels: 1D array of Panel objects\n",
    "        List of panels.\n",
    "    freestream: Freestream object\n",
    "        Freestream conditions.\n",
    "    \"\"\"\n",
    "    for panel in panels:\n",
    "        panel.cp = 1.0 - (panel.vt/freestream.u_inf)**2"
   ]
  },
  {
   "cell_type": "code",
   "execution_count": 24,
   "metadata": {},
   "outputs": [],
   "source": [
    "# коэффициент давления на поверхности\n",
    "compute_pressure_coefficient(panels, freestream)"
   ]
  },
  {
   "cell_type": "markdown",
   "metadata": {},
   "source": [
    "Пора рисовать результат!"
   ]
  },
  {
   "cell_type": "code",
   "execution_count": 25,
   "metadata": {},
   "outputs": [
    {
     "data": {
      "image/png": "[encoded data removed]",
      "text/plain": [
       "<matplotlib.figure.Figure at 0x1ee9c4def28>"
      ]
     },
     "metadata": {},
     "output_type": "display_data"
    }
   ],
   "source": [
    "# рисуем коэффициент давления на поверхности\n",
    "pyplot.figure(figsize=(10, 6))\n",
    "pyplot.grid()\n",
    "pyplot.xlabel('$x$', fontsize=16)\n",
    "pyplot.ylabel('$C_p$', fontsize=16)\n",
    "pyplot.plot([panel.xc for panel in panels if panel.loc == 'upper'],\n",
    "            [panel.cp for panel in panels if panel.loc == 'upper'],\n",
    "            label='верхняя поверхность',\n",
    "            color='r', linestyle='-', linewidth=2, marker='o', markersize=6)\n",
    "pyplot.plot([panel.xc for panel in panels if panel.loc == 'lower'],\n",
    "            [panel.cp for panel in panels if panel.loc == 'lower'],\n",
    "            label= 'нижняя поверхность',\n",
    "            color='b', linestyle='-', linewidth=1, marker='D', markersize=6)\n",
    "pyplot.legend(loc='best', prop={'size':16})\n",
    "pyplot.xlim(-0.1, 1.1)\n",
    "pyplot.ylim(1.0, -2.0)\n",
    "pyplot.title('Число панелей: {}'.format(panels.size), fontsize=16);"
   ]
  },
  {
   "cell_type": "markdown",
   "metadata": {},
   "source": [
    "### Проверка точности\n",
    "\n",
    "Для замкнутого тела суммарная интенсивность всех источников должна равняться нулю. В противном случае тело добавляло бы в поток какую-то массу, или наоборот, что-то забирало бы. Поэтому, должно выполняться\n",
    "\n",
    "$$\\sum_{i=1}^{N} \\sigma_i l_i = 0$$\n",
    "\n",
    "где $l_i$ — длина $i^{\\text{ой}}$ панели.\n",
    "\n",
    "Зная это, можно получить оценку точности панельного метода источников."
   ]
  },
  {
   "cell_type": "code",
   "execution_count": 26,
   "metadata": {},
   "outputs": [
    {
     "name": "stdout",
     "output_type": "stream",
     "text": [
      "суммарная интенсивность особенностей: 0.004606\n"
     ]
    }
   ],
   "source": [
    "# вычисляем точность\n",
    "accuracy = sum([panel.sigma*panel.length for panel in panels])\n",
    "print('суммарная интенсивность особенностей: {:0.6f}'.format(accuracy))"
   ]
  },
  {
   "cell_type": "markdown",
   "metadata": {},
   "source": [
    "## Коэффициент подъемной силы \n",
    "\n",
    "Подъемная сила определяется по теореме Кутты-Жукоского: $L = \\rho \\Gamma U_\\infty$,\n",
    "где $\\rho$ — плотность жидкости. Общая циркуляция $\\Gamma$ получается как сумма циркуляций:\n",
    "\n",
    "$$\\Gamma = \\sum_{i=1}^N \\gamma l_i$$\n",
    "\n",
    "Наконец, коэффициент подъемной силы определяется по формуле:\n",
    "\n",
    "$$C_l = \\frac{\\sum_{i=1}^N \\gamma l_i}{\\frac{1}{2}U_\\infty c}$$\n",
    "\n",
    "в которой $c$ — хорда профиля."
   ]
  },
  {
   "cell_type": "code",
   "execution_count": 27,
   "metadata": {},
   "outputs": [
    {
     "name": "stdout",
     "output_type": "stream",
     "text": [
      "коэффициент подъемной силы: CL = 0.506\n"
     ]
    }
   ],
   "source": [
    "# вычисляем хорду и коэффициент подъемной силы\n",
    "c = abs(max(panel.xa for panel in panels)\n",
    "        - min(panel.xa for panel in panels))\n",
    "cl = (gamma*sum(panel.length for panel in panels)\n",
    "      / (0.5*freestream.u_inf*c))\n",
    "print('коэффициент подъемной силы: CL = {:0.3f}'.format(cl))"
   ]
  },
  {
   "cell_type": "markdown",
   "metadata": {},
   "source": [
    "### Контрольное задание\n",
    "\n",
    "Основываясь на том, что было сделано в предыдущем блокноте, рассчитайте и изобразите линии тока и коэффициент давления на декартовой сетке."
   ]
  },
  {
   "cell_type": "markdown",
   "metadata": {},
   "source": [
    "---"
   ]
  },
  {
   "cell_type": "raw",
   "metadata": {},
   "source": [
    "Пожалуйста, не обращайте внимания на ячейку ниже. При её исполнении загружаются стили для отображения блокнота."
   ]
  },
  {
   "cell_type": "code",
   "execution_count": 26,
   "metadata": {},
   "outputs": [
    {
     "data": {
      "text/html": [
       "<link href='http://fonts.googleapis.com/css?family=PT+Serif' rel='stylesheet' type='text/css'>\n",
       "<link href='http://fonts.googleapis.com/css?family=Alegreya+Sans:100,300,400,500,700,800,900,100italic,300italic,400italic,500italic,700italic,800italic,900italic' rel='stylesheet' type='text/css'>\n",
       "<link href='http://fonts.googleapis.com/css?family=Source+Code+Pro:300,400' rel='stylesheet' type='text/css'>\n",
       "<style>\n",
       "\n",
       "@font-face {\n",
       "    font-family: \"Computer Modern\";\n",
       "    src: url('http://mirrors.ctan.org/fonts/cm-unicode/fonts/otf/cmunss.otf');\n",
       "}\n",
       "\n",
       "\n",
       "#notebook_panel { /* main background */\n",
       "    background: rgb(245,245,245);\n",
       "}\n",
       "\n",
       "div.cell { /* set cell width */\n",
       "    width: 750px;\n",
       "}\n",
       "\n",
       "div #notebook { /* centre the content */\n",
       "    background: #fff; /* white background for content */\n",
       "    width: 1000px;\n",
       "    margin: auto;\n",
       "    padding-left: 0em;\n",
       "}\n",
       "\n",
       "#notebook li { /* More space between bullet points */\n",
       "margin-top:0.8em;\n",
       "}\n",
       "\n",
       "/* draw border around running cells */\n",
       "div.cell.border-box-sizing.code_cell.running { \n",
       "    border: 1px solid #111;\n",
       "}\n",
       "\n",
       "/* Put a solid color box around each cell and its output, visually linking them*/\n",
       "div.cell.code_cell {\n",
       "    background-color: rgb(256,256,256); \n",
       "    border-radius: 0px; \n",
       "    padding: 0.5em;\n",
       "    margin-left:1em;\n",
       "    margin-top: 1em;\n",
       "}\n",
       "\n",
       "\n",
       "div.text_cell_render{\n",
       "    font-family: 'Alegreya Sans', sans-serif;\n",
       "    line-height: 140%;\n",
       "    font-size: 125%;\n",
       "    font-weight: 400;\n",
       "    width:600px;\n",
       "    margin-left:auto;\n",
       "    margin-right:auto;\n",
       "}\n",
       "\n",
       "/* Formatting for header cells */\n",
       ".text_cell_render h1 {\n",
       "    font-family: 'Alegreya Sans', sans-serif;\n",
       "    font-style:regular;\n",
       "    font-weight: 200;    \n",
       "    font-size: 50pt;\n",
       "    line-height: 100%;\n",
       "    color:#CD2305;\n",
       "    margin-bottom: 0.5em;\n",
       "    margin-top: 0.5em;\n",
       "    display: block;\n",
       "}\t\n",
       ".text_cell_render h2 {\n",
       "    font-family: 'PT Serif', serif;\n",
       "    font-size: 22pt;\n",
       "    line-height: 100%;\n",
       "    margin-bottom: 0.1em;\n",
       "    margin-top: 0.3em;\n",
       "    display: block;\n",
       "}\t\n",
       "\n",
       ".text_cell_render h3 {\n",
       "    font-family: 'PT Serif', serif;\n",
       "    margin-top:12px;\n",
       "\tfont-size: 16pt;\n",
       "    margin-bottom: 3px;\n",
       "    font-style: regular;\n",
       "}\n",
       "\n",
       ".text_cell_render h4 {    /*Use this for captions*/\n",
       "    font-family: 'PT Serif', serif;\n",
       "    font-size: 12pt;\n",
       "    text-align: center;\n",
       "    margin-top: 0em;\n",
       "    margin-bottom: 2em;\n",
       "    font-style: regular;\n",
       "}\n",
       "\n",
       ".text_cell_render h5 {  /*Use this for small titles*/\n",
       "    font-family: 'Alegreya Sans', sans-serif;\n",
       "    font-weight: 300;\n",
       "    font-size: 16pt;\n",
       "    color: #CD2305;\n",
       "    font-style: italic;\n",
       "    margin-bottom: .5em;\n",
       "    margin-top: 0.5em;\n",
       "    display: block;\n",
       "}\n",
       "\n",
       ".text_cell_render h6 { /*use this for copyright note*/\n",
       "    font-family: 'Source Code Pro', sans-serif;\n",
       "    font-weight: 300;\n",
       "    font-size: 9pt;\n",
       "    line-height: 100%;\n",
       "    color: grey;\n",
       "    margin-bottom: 1px;\n",
       "    margin-top: 1px;\n",
       "}\n",
       "\n",
       "    .CodeMirror{\n",
       "            font-family: \"Consolas\";\n",
       "\t\t\tfont-size: 110%;\n",
       "    }\n",
       "/*    .prompt{\n",
       "        display: None;\n",
       "    }*/\n",
       "\t\n",
       "    \n",
       "    .warning{\n",
       "        color: rgb( 240, 20, 20 )\n",
       "        }  \n",
       "</style>\n",
       "<script>\n",
       "    MathJax.Hub.Config({\n",
       "                        TeX: {\n",
       "                           extensions: [\"AMSmath.js\"], \n",
       "                           equationNumbers: { autoNumber: \"AMS\", useLabelIds: true}\n",
       "                           },\n",
       "                tex2jax: {\n",
       "                    inlineMath: [ ['$','$'], [\"\\\\(\",\"\\\\)\"] ],\n",
       "                    displayMath: [ ['$$','$$'], [\"\\\\[\",\"\\\\]\"] ]\n",
       "                },\n",
       "                displayAlign: 'center', // Change this to 'center' to center equations.\n",
       "                \"HTML-CSS\": {\n",
       "                    styles: {'.MathJax_Display': {\"margin\": 4}}\n",
       "                }\n",
       "        });\n",
       "</script>\n"
      ],
      "text/plain": [
       "<IPython.core.display.HTML object>"
      ]
     },
     "execution_count": 26,
     "metadata": {},
     "output_type": "execute_result"
    }
   ],
   "source": [
    "from IPython.core.display import HTML\n",
    "def css_styling():\n",
    "    styles = open('../styles/custom.css', 'r').read()\n",
    "    return HTML(styles)\n",
    "css_styling()"
   ]
  }
 ],
 "metadata": {
  "kernelspec": {
   "display_name": "Python 3",
   "language": "python",
   "name": "python3"
  },
  "language_info": {
   "codemirror_mode": {
    "name": "ipython",
    "version": 3
   },
   "file_extension": ".py",
   "mimetype": "text/x-python",
   "name": "python",
   "nbconvert_exporter": "python",
   "pygments_lexer": "ipython3",
   "version": "3.6.4"
  }
 },
 "nbformat": 4,
 "nbformat_minor": 1
}
