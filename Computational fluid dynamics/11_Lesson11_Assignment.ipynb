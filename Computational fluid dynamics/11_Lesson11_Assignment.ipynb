{
 "cells": [
  {
   "cell_type": "markdown",
   "metadata": {},
   "source": [
    "###### Текст распространяется на условиях лицензии Creative Commons Attribution license CC-BY 4.0, код — на условиях лицензии MIT license.  (c)2015 L.A. Barba, Pi-Yueh Chuang."
   ]
  },
  {
   "cell_type": "markdown",
   "metadata": {},
   "source": [
    "# Двумерный многозвенный профиль"
   ]
  },
  {
   "cell_type": "markdown",
   "metadata": {},
   "source": [
    "Перед вами задание к четвертому модулю **Вихревой панельный метод для несущих тел** курса [_AeroPython_](https://github.com/barbagroup/AeroPython). Вы рассмотрите двумерный многозвенный профиль, или сечение механизированного крыла с выпущенным закрылком, применив панельный метод вихрей и источников из [занятия 11](11_Lesson11_vortexSourcePanelMethod.ipynb) к расчету обтекания пары профилей.\n",
    "\n",
    "Главные особенности использования панельного метода для расчета многозвенных профилей состоят в следующем:\n",
    "\n",
    "1. у каждому профилю соответствет вихрь с собственной интенсивностью, и\n",
    "2. на задней кормке каждого профиля должно выполняться условие Кутты-Жуковского.\n",
    "\n",
    "В первой части задания мы воспользуемся тестом, для которого существует теоретическое решение, полученное Вильямсом (1973). Посмотрите работу, на которую дана ссылка, и насладитесь полетом математической мысли! Во второй части вы будете иметь дело с более популярным профилем, NACA 23012, который будет использоваться в качестве основного и дополнительного звеньев. Для такой конфигураци есть экспериментальные данные, описанные в отчете Вензингера (1938). Это задание заставит вас задуматься о некоторых интересных, с точки зрения аэродинамики, вопросах."
   ]
  },
  {
   "cell_type": "markdown",
   "metadata": {},
   "source": [
    "## Часть 1: Тест Вильямса "
   ]
  },
  {
   "cell_type": "markdown",
   "metadata": {},
   "source": [
    "Ваша задача заключается в вычислении коэффициента давления на поверхностях многоэлементного профиля, состоящего из *основного профиля* и *внешнего закрылка*. Этот тест из работы Вильямса (1973), котороый получил красивое теоретическое решение при помощи конформных преобразований.\n",
    "\n",
    "Профиль с выпущенным закрылком выглядит так:\n",
    "<center> <img src=\"resources/MultiElementAirfoil.png\" width=\"500\"> </center>\n",
    "\n",
    "Файлы CSV с $x$ и $y$ координатами узлов каждой панели содержатся в директории `resources` репозитория GitHub. Файлы имеют следующий формат наименования, в котором `***` представляет количество панелей `N`. `MainFoil_N=***.csv`, `FlapFoil_N=***.csv`.\n",
    "\n",
    "Для отладки и тестирования можно использовать разбиение на меньшее число панелей, а для более серьезных вычислений — для ответа на вопросы задания — взять более подробное разбиение.\n",
    "\n",
    "Также имеются два файла с именами `Cp_Main_theoretical.csv` и `Cp_Flap_theoretical.csv`, в которых содержатся теоретические значения — распределение коэффициента давления по оси $x$ для рассматриваемой конфигурации (закрылок отклонен на $30$º, основной профиль под нулевым углом атаки).\n",
    "\n",
    "Теоретические значения коэффициентов подъемной силы и сопротивления для этого случая: $3.7386$ и $0$ соответственно (обезразмерены на скоростной напор)."
   ]
  },
  {
   "cell_type": "markdown",
   "metadata": {},
   "source": [
    "### Подсказки"
   ]
  },
  {
   "cell_type": "markdown",
   "metadata": {},
   "source": [
    "Вспомните [упражнение к занятию 11](11_Lesson11_Exercise.ipynb), в котором вас просили вывести математическую постановку панельного метода.\n",
    "\n",
    "Теперь нужно повторить эти выкладки для двухэлементного профиля, начав с выражения для потенциала:\n",
    "\n",
    "$$\n",
    "\\begin{split}\n",
    "\\phi(x, y) &= U_{\\infty}x\\cos\\alpha + U_{\\infty}y\\sin\\alpha \\\\\n",
    "& + \\int_{main} \\frac{1}{2\\pi} \\sigma(s) \\ln \\sqrt{(x-\\xi(s))^2+(y-\\eta(s))^2} ds  \\\\\n",
    "& + \\int_{flap} \\frac{1}{2\\pi} \\sigma(s) \\ln \\sqrt{(x-\\xi(s))^2+(y-\\eta(s))^2} ds \\\\\n",
    "& - \\int_{main} \\frac{1}{2\\pi} \\gamma(s) \\tan^{-1} \\frac{y-\\eta(s)}{x-\\xi(s)} ds  \\\\\n",
    "& - \\int_{flap} \\frac{1}{2\\pi} \\gamma(s) \\tan^{-1} \\frac{y-\\eta(s)}{x-\\xi(s)} ds\n",
    "\\end{split}\n",
    "$$\n",
    "\n",
    "Предположим следующее:\n",
    "\n",
    "1. $\\sigma(s)$ постоянны на каждой панели,\n",
    "2. $\\gamma(s)$ постоянны на каждом профиле, и\n",
    "3. к основному профилю относятся панели с 1<sup>ой</sup> по $N_a$<sup>ю</sup>, а к закрылку — панели с $(N_a+1)$<sup>й</sup> по $N$<sup>ю</sup>, при этом $N=N_a+N_b$, а $N_b$ — это число панелей на закрылке.\n",
    "\n",
    "Итого получится $N+2$ неизвестных: $\\sigma_1\\cdots\\sigma_N$, $\\gamma_a$, и $\\gamma_b$. Величины  $\\gamma_a$ и $\\gamma_b$ соответствуют интенсивностям вихрей основного профиля и закрылка.\n",
    "\n",
    "У вас должно получиться вывести матрицы для нормальной и касательной компонент скорости на $i$<sup>ой</sup> панели:\n",
    "\n",
    "$$\n",
    "U^n_i = b^n_i +\n",
    "\\left[\\begin{smallmatrix}A^n_{i1}\\cdots A^n_{iN}\\end{smallmatrix}, \\sum_{j=1}^{N_a}B^n_{ij}, \\sum_{j=N_a+1}^{N}B^n_{ij}\\right]\n",
    "\\left[\\begin{smallmatrix}\\sigma_1 \\\\ \\vdots \\\\ \\sigma_N \\\\ \\gamma_a \\\\ \\gamma_b\\end{smallmatrix}\\right]\n",
    "$$\n",
    "\n",
    "$$\n",
    "U^t_i = b^t_i +\n",
    "\\left[\\begin{smallmatrix}A^t_{i1}\\cdots A^t_{iN}\\end{smallmatrix}, \\sum_{j=1}^{N_a}B^t_{ij}, \\sum_{j=N_a+1}^{N}B^t_{ij}\\right]\n",
    "\\left[\\begin{smallmatrix}\\sigma_1 \\\\ \\vdots \\\\ \\sigma_N \\\\ \\gamma_a \\\\ \\gamma_b\\end{smallmatrix}\\right]\n",
    "$$\n",
    "\n",
    "Используя граничное условие непротекания на панелях с $1$<sup>ой</sup> по $N$<sup>ую</sup>, вы получите $N$ линейных уравнений. Для нахождения всех $N+2$ неизвестных нужно еще два условия Кутты-Жуковского для двух профилей:\n",
    "\n",
    "$$\n",
    "U^t_{1} = U^t_{N_a} \\\\\n",
    "U^t_{N_a+1} = U^t_{N}\n",
    "$$\n",
    "\n",
    "И теперь вы готовы к расчету потенциального течения вокруг двумерного многозвенного крыла!"
   ]
  },
  {
   "cell_type": "markdown",
   "metadata": {},
   "source": [
    "##### Вопросы"
   ]
  },
  {
   "cell_type": "markdown",
   "metadata": {},
   "source": [
    "Запустите ваш код, используя 100 панелей на основном профиле и закрылке и ответьте на следующие вопросы."
   ]
  },
  {
   "cell_type": "markdown",
   "metadata": {},
   "source": [
    "### Вопрос 1:"
   ]
  },
  {
   "cell_type": "markdown",
   "metadata": {},
   "source": [
    "* Чему равен коэффициент давления на $3$<sup>й</sup> панели *основного профиля*?"
   ]
  },
  {
   "cell_type": "markdown",
   "metadata": {},
   "source": [
    "### Вопрос 2:"
   ]
  },
  {
   "cell_type": "markdown",
   "metadata": {},
   "source": [
    "* Чему равен коэффициент давления на $10$<sup>й</sup> панели *закрылка*?*?"
   ]
  },
  {
   "cell_type": "markdown",
   "metadata": {},
   "source": [
    "### Вопрос 3:"
   ]
  },
  {
   "cell_type": "markdown",
   "metadata": {},
   "source": [
    "* Чему равна подъемная сила?\n",
    "\n",
    "**Подсказка:** $~L = - \\oint_{main}p\\vec{n}\\cdot\\vec{j}dl- \\oint_{flap}p\\vec{n}\\cdot\\vec{j}dl$"
   ]
  },
  {
   "cell_type": "markdown",
   "metadata": {},
   "source": [
    "### Вопрос 4:"
   ]
  },
  {
   "cell_type": "markdown",
   "metadata": {},
   "source": [
    "* Какова величина сопротивления?"
   ]
  },
  {
   "cell_type": "markdown",
   "metadata": {},
   "source": [
    "### Вопрос 5:"
   ]
  },
  {
   "cell_type": "markdown",
   "metadata": {},
   "source": [
    "* Запустите программу с 200 панелями на основном профиле и закрылке. На сколько процентов уменьшилась ошибка в определении подъемной силы?"
   ]
  },
  {
   "cell_type": "markdown",
   "metadata": {},
   "source": [
    "## Часть 2: Тест Вензингера"
   ]
  },
  {
   "cell_type": "markdown",
   "metadata": {},
   "source": [
    "Теперь у вас должен появиться панельный солвер для двухкомпонентного профиля, который можно использовать повторно. Следующий шаг — применить его к более реалистичной задаче. Нам доступны экспериментальные данные (Wenzinger, 1938) для профиля NACA 23012 с закрылком той же формы, с которыми можно сравнить результаты расчетов.\n",
    "\n",
    "На следующем рисунке показан профиль сечения крыла с 0º отклонением закрылка:\n",
    "\n",
    "<center> <img src=\"resources/MultiElementAirfoil.png\" width=\"500\"> </center>\n",
    "\n",
    "Файлы CSV с $x$ и $y$ координатами узлов каждой панели этого сечения крыла со 150 панелями на каждом профиле: `NACA23012_MainFoil.csv` и `NACA23012_FlapFoil.csv` в директории `resources`.\n",
    "\n",
    "Точка вращения закрылка расположена в точке $(1.03, -0.054)$ (см. конфигурацию на рис. 1). Используя координаты точки вращения, можно получить различные конфигурации с разными углами отклонения закрылков.\n",
    "\n",
    "Попробуйте использовать разные углы отклонения закрылков при различных углах атаки (по хордн основного профиля) и сравните с экспериментальными результатами Вензингера. Напомним, как определяется полный коэффициент подъемной силы $L/(l_{main}+l_{flap})$, где $L$  — подъемная сила (на единицу размаха), как и в рассмотренной выше задаче, а $l_{main}$ и $l_{flap}$ — хорды обоих профилей. **Подумайте, что может быть источником расхождения между вашими результатами и экспериментальными данными**."
   ]
  },
  {
   "cell_type": "markdown",
   "metadata": {},
   "source": [
    "##### Вопросы"
   ]
  },
  {
   "cell_type": "markdown",
   "metadata": {},
   "source": [
    "### Вопрос 1:"
   ]
  },
  {
   "cell_type": "markdown",
   "metadata": {},
   "source": [
    "* Используйте [метод деления отрезка пополам](https://ru.wikipedia.org/wiki/%D0%9C%D0%B5%D1%82%D0%BE%D0%B4_%D0%B1%D0%B8%D1%81%D0%B5%D0%BA%D1%86%D0%B8%D0%B8) для определения угла атаки $\\alpha$, при котором подъемная сила равна нулю при отклонении закрылка $20$º. Округлите ответ до второго знака после плавающей точки.\n",
    "\n",
    "**Подсказка**: можно начать поиск в интервале $-14\\le\\alpha\\le14$."
   ]
  },
  {
   "cell_type": "markdown",
   "metadata": {},
   "source": [
    "### Вопрос 2:"
   ]
  },
  {
   "cell_type": "markdown",
   "metadata": {},
   "source": [
    "* Используйте [метод деления отрезка пополам](https://ru.wikipedia.org/wiki/%D0%9C%D0%B5%D1%82%D0%BE%D0%B4_%D0%B1%D0%B8%D1%81%D0%B5%D0%BA%D1%86%D0%B8%D0%B8) для определения угла отклонения закрылка, при котором подъемная сила равна нулю при угле атаки $\\alpha = 0$º. Округлите ответ до второго знака после плавающей точки."
   ]
  },
  {
   "cell_type": "markdown",
   "metadata": {},
   "source": [
    "### Вопрос 3:"
   ]
  },
  {
   "cell_type": "markdown",
   "metadata": {},
   "source": [
    "* Предположим, что основной профиль крепится к фюзеляжу самолета под угорм атаки $4$º (то есть строительный угол атаки на котором проходит крейсерский полет, равен $4$º). Вычислите коэффициенты подъемной силы с закрылком, отклоненным на $0$º,  а также на $5$, $10$ и $15$ градусов. На сколько медленнее (в процентах) будет лететь самолет с выпущенными закрылками, по сравнению со случаем, когда они убраны?"
   ]
  },
  {
   "cell_type": "markdown",
   "metadata": {},
   "source": [
    "##### Подумайте"
   ]
  },
  {
   "cell_type": "markdown",
   "metadata": {},
   "source": [
    "Каков физический смысл результата, полученного в **Вопросе 3**? Зачем нужен закрылок?"
   ]
  },
  {
   "cell_type": "markdown",
   "metadata": {},
   "source": [
    "## Ссылки"
   ]
  },
  {
   "cell_type": "markdown",
   "metadata": {},
   "source": [
    "* B. R. Williams (1973), *An Exact Test Case for the Plane Potential Flow About Two Adjacent Lifting Aerofoils*, Reports & Memoranda No. 3717, Aeronautical Research Council of the United Kingdom // [PDF на сайте университета Крэнфилда](http://naca.central.cranfield.ac.uk/reports/arc/rm/3717.pdf)\n",
    "\n",
    "* C. J. Wenzinger (1938), *Pressure distribution over an NACA 23012 airfoil with an N.A.C.A. 23012 external-airfoil flap*, NACA Technical Report No.614 // [PDF на сайте NASA](http://ntrs.nasa.gov/archive/nasa/casi.ntrs.nasa.gov/19930091690.pdf)"
   ]
  },
  {
   "cell_type": "markdown",
   "metadata": {},
   "source": [
    "-----------------------------"
   ]
  },
  {
   "cell_type": "code",
   "execution_count": 1,
   "metadata": {},
   "outputs": [
    {
     "data": {
      "text/html": [
       "<link href='http://fonts.googleapis.com/css?family=PT+Serif' rel='stylesheet' type='text/css'>\n",
       "<link href='http://fonts.googleapis.com/css?family=Alegreya+Sans:100,300,400,500,700,800,900,100italic,300italic,400italic,500italic,700italic,800italic,900italic' rel='stylesheet' type='text/css'>\n",
       "<link href='http://fonts.googleapis.com/css?family=Source+Code+Pro:300,400' rel='stylesheet' type='text/css'>\n",
       "<style>\n",
       "\n",
       "@font-face {\n",
       "    font-family: \"Computer Modern\";\n",
       "    src: url('http://mirrors.ctan.org/fonts/cm-unicode/fonts/otf/cmunss.otf');\n",
       "}\n",
       "\n",
       "\n",
       "#notebook_panel { /* main background */\n",
       "    background: rgb(245,245,245);\n",
       "}\n",
       "\n",
       "div.cell { /* set cell width */\n",
       "    width: 750px;\n",
       "}\n",
       "\n",
       "div #notebook { /* centre the content */\n",
       "    background: #fff; /* white background for content */\n",
       "    width: 1000px;\n",
       "    margin: auto;\n",
       "    padding-left: 0em;\n",
       "}\n",
       "\n",
       "#notebook li { /* More space between bullet points */\n",
       "margin-top:0.8em;\n",
       "}\n",
       "\n",
       "/* draw border around running cells */\n",
       "div.cell.border-box-sizing.code_cell.running { \n",
       "    border: 1px solid #111;\n",
       "}\n",
       "\n",
       "/* Put a solid color box around each cell and its output, visually linking them*/\n",
       "div.cell.code_cell {\n",
       "    background-color: rgb(256,256,256); \n",
       "    border-radius: 0px; \n",
       "    padding: 0.5em;\n",
       "    margin-left:1em;\n",
       "    margin-top: 1em;\n",
       "}\n",
       "\n",
       "\n",
       "div.text_cell_render{\n",
       "    font-family: 'Alegreya Sans', sans-serif;\n",
       "    line-height: 140%;\n",
       "    font-size: 125%;\n",
       "    font-weight: 400;\n",
       "    width:600px;\n",
       "    margin-left:auto;\n",
       "    margin-right:auto;\n",
       "}\n",
       "\n",
       "/* Formatting for header cells */\n",
       ".text_cell_render h1 {\n",
       "    font-family: 'Alegreya Sans', sans-serif;\n",
       "    font-style:regular;\n",
       "    font-weight: 200;    \n",
       "    font-size: 50pt;\n",
       "    line-height: 100%;\n",
       "    color:#CD2305;\n",
       "    margin-bottom: 0.5em;\n",
       "    margin-top: 0.5em;\n",
       "    display: block;\n",
       "}\t\n",
       ".text_cell_render h2 {\n",
       "    font-family: 'PT Serif', serif;\n",
       "    font-size: 22pt;\n",
       "    line-height: 100%;\n",
       "    margin-bottom: 0.1em;\n",
       "    margin-top: 0.3em;\n",
       "    display: block;\n",
       "}\t\n",
       "\n",
       ".text_cell_render h3 {\n",
       "    font-family: 'PT Serif', serif;\n",
       "    margin-top:12px;\n",
       "\tfont-size: 16pt;\n",
       "    margin-bottom: 3px;\n",
       "    font-style: regular;\n",
       "}\n",
       "\n",
       ".text_cell_render h4 {    /*Use this for captions*/\n",
       "    font-family: 'PT Serif', serif;\n",
       "    font-size: 12pt;\n",
       "    text-align: center;\n",
       "    margin-top: 0em;\n",
       "    margin-bottom: 2em;\n",
       "    font-style: regular;\n",
       "}\n",
       "\n",
       ".text_cell_render h5 {  /*Use this for small titles*/\n",
       "    font-family: 'Alegreya Sans', sans-serif;\n",
       "    font-weight: 300;\n",
       "    font-size: 16pt;\n",
       "    color: #CD2305;\n",
       "    font-style: italic;\n",
       "    margin-bottom: .5em;\n",
       "    margin-top: 0.5em;\n",
       "    display: block;\n",
       "}\n",
       "\n",
       ".text_cell_render h6 { /*use this for copyright note*/\n",
       "    font-family: 'Source Code Pro', sans-serif;\n",
       "    font-weight: 300;\n",
       "    font-size: 9pt;\n",
       "    line-height: 100%;\n",
       "    color: grey;\n",
       "    margin-bottom: 1px;\n",
       "    margin-top: 1px;\n",
       "}\n",
       "\n",
       "    .CodeMirror{\n",
       "            font-family: \"Consolas\";\n",
       "\t\t\tfont-size: 110%;\n",
       "    }\n",
       "/*    .prompt{\n",
       "        display: None;\n",
       "    }*/\n",
       "\t\n",
       "    \n",
       "    .warning{\n",
       "        color: rgb( 240, 20, 20 )\n",
       "        }  \n",
       "</style>\n",
       "<script>\n",
       "    MathJax.Hub.Config({\n",
       "                        TeX: {\n",
       "                           extensions: [\"AMSmath.js\"], \n",
       "                           equationNumbers: { autoNumber: \"AMS\", useLabelIds: true}\n",
       "                           },\n",
       "                tex2jax: {\n",
       "                    inlineMath: [ ['$','$'], [\"\\\\(\",\"\\\\)\"] ],\n",
       "                    displayMath: [ ['$$','$$'], [\"\\\\[\",\"\\\\]\"] ]\n",
       "                },\n",
       "                displayAlign: 'center', // Change this to 'center' to center equations.\n",
       "                \"HTML-CSS\": {\n",
       "                    styles: {'.MathJax_Display': {\"margin\": 4}}\n",
       "                }\n",
       "        });\n",
       "</script>\n"
      ],
      "text/plain": [
       "<IPython.core.display.HTML object>"
      ]
     },
     "execution_count": 1,
     "metadata": {},
     "output_type": "execute_result"
    }
   ],
   "source": [
    "from IPython.core.display import HTML\n",
    "def css_styling():\n",
    "    styles = open('../styles/custom.css', 'r').read()\n",
    "    return HTML(styles)\n",
    "css_styling()"
   ]
  }
 ],
 "metadata": {
  "kernelspec": {
   "display_name": "Python 3",
   "language": "python",
   "name": "python3"
  },
  "language_info": {
   "codemirror_mode": {
    "name": "ipython",
    "version": 3
   },
   "file_extension": ".py",
   "mimetype": "text/x-python",
   "name": "python",
   "nbconvert_exporter": "python",
   "pygments_lexer": "ipython3",
   "version": "3.6.4"
  }
 },
 "nbformat": 4,
 "nbformat_minor": 1
}
