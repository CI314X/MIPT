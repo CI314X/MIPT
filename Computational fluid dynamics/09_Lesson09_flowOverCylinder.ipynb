{
 "cells": [
  {
   "cell_type": "raw",
   "metadata": {},
   "source": [
    "Материал распространяется по лицензии Creative Commons Attribution license, CC-BY 4.0; code under MIT license.  (c)2014 Lorena A. Barba,  Olivier Mesnard. Благодарности: NSF for support via CAREER award #1149784."
   ]
  },
  {
   "cell_type": "markdown",
   "metadata": {},
   "source": [
    "##### Версия 0.1 -- Март 2018"
   ]
  },
  {
   "cell_type": "markdown",
   "metadata": {},
   "source": [
    "# Обтекание цилиндра, составленного из панелей"
   ]
  },
  {
   "cell_type": "markdown",
   "metadata": {},
   "source": [
    "На предыдущих занятиях для представления тел простой формы, таких как [овал Рэнкина](02_Lesson02_sourceSinkFreestream.ipynb) или [круговой цилиндр](03_Lesson03_doublet.ipynb) использовались точечные особенности, помещенные в равномерный поток. Надо сказать, это большая удача, что при помощи комбинации нескольких фундаментальных решений уравнения Лапласа удается получить картины течения, в которых разделительная линия тока выглядит как замкнутое тело.\n",
    "\n",
    "Но что, если нужно получить картину течения вокруг произвольной геометрии? Удастся ли подобрать такую комбинацию фундаментальных решений, чтобы получился нужный результат? *И как это сделать?* Методом проб и ошибок? Потребуется невероятная удача и масса усилий, чтобы получилась необходимая геометрия.\n",
    "\n",
    "Цель этого занятия — получить распределения положений источников и их интенсивностей, при которых создается потенциальное обтекание заданной геометрии, а именно, кругового цилиндра. Известно, что течение вокруг цилиндра моделируется при помощи комбинации диполя и равномерного потока, но нам нужно разработать общий подход к моделированию течений, который можно будет применить к *различным* геометриям.\n",
    "\n",
    "Метод, которым мы воспользуемся, состоит в следующем Геометрия тела представляется в виде набора небольших отрезков, *панелей*, которые являются [слоями источников](08_Lesson08_sourceSheet.ipynb), изученными на прошлом занятии. \n",
    "\n",
    "В результате мы должны получить алгоритм, согласно которому, вначале задается геометрия объекта, а затем определяются интенсивности источников каждой панели, при которых разделительная линия тока совпадает с границей тела. Искомые значения интенсивностей определяются из условия непротекания.\n",
    "\n",
    "Начнем с импорта необходимых библиотек."
   ]
  },
  {
   "cell_type": "code",
   "execution_count": 1,
   "metadata": {},
   "outputs": [],
   "source": [
    "import math\n",
    "import numpy\n",
    "from scipy import integrate\n",
    "from matplotlib import pyplot\n",
    "# помещаем графику внутрь блокнота\n",
    "%matplotlib inline"
   ]
  },
  {
   "cell_type": "markdown",
   "metadata": {},
   "source": [
    "Добавим равномерный горизонтальный поток со скоростью `u_inf`, равной 1:"
   ]
  },
  {
   "cell_type": "code",
   "execution_count": 2,
   "metadata": {},
   "outputs": [],
   "source": [
    "u_inf = 1.0             # скорость набегающего потока"
   ]
  },
  {
   "cell_type": "markdown",
   "metadata": {},
   "source": [
    "### Задание геометрии"
   ]
  },
  {
   "cell_type": "markdown",
   "metadata": {},
   "source": [
    "Рассмотрим круговой цилиндр единичного радиуса. Такая геометрия задается множеством точек в диапазоне углов от $0$ до $2\\pi$."
   ]
  },
  {
   "cell_type": "code",
   "execution_count": 3,
   "metadata": {},
   "outputs": [
    {
     "data": {
      "image/png": "[encoded data removed]",
      "text/plain": [
       "<matplotlib.figure.Figure at 0x180c2ca1c50>"
      ]
     },
     "metadata": {},
     "output_type": "display_data"
    }
   ],
   "source": [
    "# задаем параметры цилиндра\n",
    "R = 1.0                                     # радиус\n",
    "# угловая координата в радианах\n",
    "theta = numpy.linspace(0, 2*math.pi, 100)   \n",
    "# цилиндр в декартовых координатах\n",
    "x_cylinder, y_cylinder = R*numpy.cos(theta), R*numpy.sin(theta)   \n",
    "\n",
    "# рисуем цилиндр\n",
    "size = 4\n",
    "pyplot.figure(figsize=(size, size))\n",
    "pyplot.grid(True)\n",
    "pyplot.xlabel('x', fontsize=16)\n",
    "pyplot.ylabel('y', fontsize=16)\n",
    "pyplot.plot(x_cylinder, y_cylinder, color='b', linestyle='-', linewidth=2)\n",
    "pyplot.xlim(-1.1, 1.1)\n",
    "pyplot.ylim(-1.1, 1.1);"
   ]
  },
  {
   "cell_type": "markdown",
   "metadata": {},
   "source": [
    "### Разбиение на панели"
   ]
  },
  {
   "cell_type": "markdown",
   "metadata": {},
   "source": [
    "Панель, представляющая собой слой источников, определятся координатами начала и конца (`xa`, `ya`) и (`xb`, `yb`), и интенсивностью `sigma`. В дальнейшем нам также понадобятся ее центр (`xc`, `yc`) и длина. Положение панели определятся углом между нормалью и осью $x$. Положительным считается направление против часовой стрелки.\n",
    "\n",
    "Что нам нужно вычислить для каждой панели? Во-первых, интенсивность слоя источников, которая нужна для получения линий тока. Во-вторых, касательную компоненту скорости на панели (нормальная компонента равна нулю) и коэффициент давления.\n",
    "\n",
    "На этом занятии вы в полной мере оцените пользу классов. Они сильно облегчат процесс управления кодом. Создадим класс с именем `Panel`, в котором будет содержаться все геометрические данные, относящиеся к одиночной панели. Имея начальную и конечную точку, внутри класса вычислим координаты центра, длину и нормаль. Также интенсивность источника, касательная компонента скорости и коэффициент давления инициализируются нулевыми значениями. (Потом они изменятся.)"
   ]
  },
  {
   "cell_type": "code",
   "execution_count": 4,
   "metadata": {},
   "outputs": [],
   "source": [
    "class Panel:\n",
    "    \"\"\"\n",
    "    Contains information related to a panel.\n",
    "    \"\"\"\n",
    "    def __init__(self, xa, ya, xb, yb):\n",
    "        \"\"\"\n",
    "        Initializes the panel.\n",
    "        \n",
    "        Sets the end-points and calculates the center, length, and angle \n",
    "        (with the x-axis) of the panel.\n",
    "        Initializes the strength of the source-sheet, \n",
    "        the tangential velocity,\n",
    "        and the pressure coefficient to zero.\n",
    "        \n",
    "        Parameters\n",
    "        ----------\n",
    "        xa: float\n",
    "            x-coordinate of the first end-point.\n",
    "        ya: float\n",
    "            y-coordinate of the first end-point.\n",
    "        xb: float\n",
    "            x-coordinate of the second end-point.\n",
    "        yb: float\n",
    "            y-coordinate of the second end-point.\n",
    "        \"\"\"\n",
    "        self.xa, self.ya = xa, ya\n",
    "        self.xb, self.yb = xb, yb\n",
    "        \n",
    "        # контрольная точка (центр панели)\n",
    "        self.xc, self.yc = (xa+xb)/2, (ya+yb)/2    \n",
    "        # длина панели\n",
    "        self.length = math.sqrt((xb-xa)**2+(yb-ya)**2)     \n",
    "        \n",
    "        # ориентация панели (угол между нормалью и осью x)\n",
    "        if xb-xa <= 0.:\n",
    "            self.beta = math.acos((yb-ya)/self.length)\n",
    "        elif xb-xa > 0.:\n",
    "            self.beta = math.pi + math.acos(-(yb-ya)/self.length)\n",
    "        \n",
    "        self.sigma = 0.                         # интенсивность источника\n",
    "        self.vt = 0.                            # касательная скорость\n",
    "        self.cp = 0.                            # коэффициент давления"
   ]
  },
  {
   "cell_type": "markdown",
   "metadata": {},
   "source": [
    "Для хранения разбиения создадим массив NumPy длины `N_panels`, в котором каждый элемент будет объектом класса `Panel`."
   ]
  },
  {
   "cell_type": "code",
   "execution_count": 5,
   "metadata": {},
   "outputs": [
    {
     "data": {
      "image/png": "[encoded data removed]",
      "text/plain": [
       "<matplotlib.figure.Figure at 0x180c3013c88>"
      ]
     },
     "metadata": {},
     "output_type": "display_data"
    }
   ],
   "source": [
    "N_panels = 10                    # желаемое число панелей\n",
    "\n",
    "# задаем конечные точки панелей\n",
    "x_ends = R*numpy.cos(numpy.linspace(0, 2*math.pi, N_panels+1))\n",
    "y_ends = R*numpy.sin(numpy.linspace(0, 2*math.pi, N_panels+1))\n",
    "\n",
    "# определяем панели\n",
    "panels = numpy.empty(N_panels, dtype=object)\n",
    "for i in range(N_panels):\n",
    "    panels[i] = Panel(x_ends[i], y_ends[i], x_ends[i+1], y_ends[i+1])\n",
    "    \n",
    "# рисуем панели\n",
    "size = 6\n",
    "pyplot.figure(figsize=(size, size))\n",
    "pyplot.grid()\n",
    "pyplot.xlabel('x', fontsize=16)\n",
    "pyplot.ylabel('y', fontsize=16)\n",
    "pyplot.plot(x_cylinder, y_cylinder,\n",
    "            label='цилиндр',\n",
    "            color='b', linestyle='--', linewidth=1)\n",
    "pyplot.plot(x_ends, y_ends,\n",
    "            label='панели',\n",
    "            color='#CD2305', linestyle='-', linewidth=2)\n",
    "pyplot.scatter([p.xa for p in panels], [p.ya for p in panels],\n",
    "               label='конечные точки',\n",
    "               color='#CD2305', s=40)\n",
    "pyplot.scatter([p.xc for p in panels], [p.yc for p in panels],\n",
    "               label='центры панелей', marker = 'D',\n",
    "               color='k', s=40, zorder=3)\n",
    "pyplot.legend(loc='best', prop={'size':16})\n",
    "pyplot.xlim(-1.1, 1.1)\n",
    "pyplot.ylim(-1.1, 1.1);"
   ]
  },
  {
   "cell_type": "markdown",
   "metadata": {},
   "source": [
    "### Граничное условие для потока на поверхности тела"
   ]
  },
  {
   "cell_type": "markdown",
   "metadata": {},
   "source": [
    "В заключительном задании [первого занятия](01_Lesson01_sourceSink.ipynb) вы получили потенциал скорости для одиночного источника. При интегрировании радиальной компоненты скорости $u_r=\\frac{\\sigma}{2\\pi r}$ получим\n",
    "\n",
    "$$\\phi=\\frac{\\sigma}{2\\pi}\\ln r$$\n",
    "\n",
    "(При интегрировании еще появляется функция от $\\theta$, которая, однако, является константой, поскольку $u_{\\theta}=0$; положим эту константу равной нулю.)\n",
    "\n",
    "Мы воспользуемся потенциалом скорости, чтобы сделать вектор скорости касательным к панели. Для этого нужно, чтобы $u_n=0$, или\n",
    "\n",
    "$$u_n(x,y)=\\frac{\\partial \\phi}{\\partial n}(x,y)$$\n",
    "\n",
    "в заданной точке панели. Выберем в качестве точки, в которой будет обеспечиваться выполнение условия непротекания, центр панели и будем называть ее *контрольная точка*.\n",
    "\n",
    "Потенциал скорости для [слоя источников](08_Lesson08_sourceSheet.ipynb) одиночной панели в декартовой системе координат:\n",
    "\n",
    "$$\\phi\\left(x,y\\right) = \\frac{\\sigma}{2\\pi} \\int_\\text{panel} \\ln \\sqrt{ \\left(x-x(s)\\right)^2 + \\left(y-y(s)\\right)^2 } {\\rm d}s$$\n",
    "\n",
    "где $s$ — текущая координата вдоль панели, а $\\left(x(s),y(s)\\right)$ — декартовы координаты $s$.\n",
    "\n",
    "Потенциал в произвольной точке $\\left(x,y\\right)$ есть суперпозиция потенциалов каждой панели, поэтому просуммируем вклад от кажой панели (при этом вынесем логарифм корня из-под знака интеграла): \n",
    "\n",
    "$$\\phi\\left(x,y\\right) = \\sum_{j=1}^{N_p} \\frac{\\sigma_j}{4\\pi} \\int \\ln \\left( \\left(x-x_j(s_j)\\right)^2 + \\left(y-y_j(s_j)\\right)^2 \\right) {\\rm d}s_j$$\n",
    "\n",
    "Если добавить к полученному выражению невозмущенный поток, то течние в окрестности кругового цилиндра будет иметь следующий потенциал:\n",
    "\n",
    "$$\\phi\\left(x,y\\right) = U_\\infty x + \\sum_{j=1}^{N_p} \\frac{\\sigma_j}{4\\pi} \\int \\ln \\left( \\left(x-x_j(s_j)\\right)^2 + \\left(y-y_j(s_j)\\right)^2 \\right) {\\rm d}s_j$$"
   ]
  },
  {
   "cell_type": "markdown",
   "metadata": {},
   "source": [
    "Обеспечение касательности скорости в *контрольных точках* делает контур тела разделительной линией тока в некотором приближении, при этом точность такого приближения увеличивается по мере роста количества панелей. Так, для каждой панели $i$, в точке $(x_{c_i},y_{c_i})$ должно выполняться $u_n=0$:\n",
    "\n",
    "$$u_{n_i} = \\frac{\\partial}{\\partial n_i}\\left\\lbrace \\phi\\left(x_{c_i},y_{c_i}\\right) \\right\\rbrace = 0$$\n",
    "\n",
    "что приводит к\n",
    "\n",
    "$$0 = U_\\infty \\cos\\beta_i + \\sum_{j=1}^{N_p} \\frac{\\sigma_j}{2\\pi} \\int \\frac{\n",
    "\\left(x_{c_i}-x_j(s_j)\\right) \\frac{\\partial x_{c_i}}{\\partial n_i}\n",
    "+ \\left(y_{c_i}-y_j(s_j)\\right) \\frac{\\partial y_{c_i}}{\\partial n_i}\n",
    "}\n",
    "{\\left(x_{c_i}-x_j(s)\\right)^2 + \\left(y_{c_i}-y_j(s)\\right)^2} {\\rm d}s_j$$\n",
    "\n",
    "где $\\beta_i$ — угол, который нормаль к панели образует с осью $x$, так что\n",
    "\n",
    "$$\\frac{\\partial x_{c_i}}{\\partial n_i} = \\cos\\beta_i \\quad \\text{and}\\quad\\frac{\\partial y_{c_i}}{\\partial n_i} = \\sin\\beta_i$$\n",
    "\n",
    "и\n",
    "\n",
    "$$x_j(s_j) = x_{a_j} - \\sin\\left(\\beta_j\\right) s_j$$\n",
    "$$y_j(s_j) = y_{a_j} + \\cos\\left(\\beta_j\\right) s_j$$\n",
    "\n",
    "Возникает проблема в случае, когда $i=j$. Из предыдущего блокнота мы знаем, что интенсивность [слоя источников](08_Lesson08_sourceSheet.ipynb) должна принимать определенное значение, чтобы линии тока не проникали через панель. Исходя из этого соображения, обозначим вклад $i$-ой панели как $\\frac{\\sigma_i}{2}$.\n",
    "\n",
    "Тогда граничное условие в центре $i$-ой панели можно будет\n",
    "\n",
    "$$0 = U_\\infty \\cos\\beta_i + \\frac{\\sigma_i}{2} + \\sum_{j=1,j\\neq i}^{N_p} \\frac{\\sigma_j}{2\\pi} \\int \\frac{\n",
    "\\left(x_{c_i}-x_j(s_j)\\right) \\cos\\beta_i\n",
    "+ \\left(y_{c_i}-y_j(s_j)\\right) \\sin\\beta_i\n",
    "}\n",
    "{\\left(x_{c_i}-x_j(s)\\right)^2 + \\left(y_{c_i}-y_j(s)\\right)^2} {\\rm d}s_j$$\n",
    "\n",
    "Из приведенного выше уравнения, мы понимаем, что нам придется вычислять интегралы с помощью SciPy функции `integrate.quad()`. Определим функцию `integral_normal()`, которая сделает за нас всю сложную работу."
   ]
  },
  {
   "cell_type": "code",
   "execution_count": 6,
   "metadata": {},
   "outputs": [],
   "source": [
    "def integral_normal(p_i, p_j):\n",
    "    \"\"\"\n",
    "    Evaluates the contribution of a panel at the center-point of another,\n",
    "    in the normal direction.\n",
    "    \n",
    "    Parameters\n",
    "    ----------\n",
    "    p_i: Panel object\n",
    "        Panel on which the contribution is calculated.\n",
    "    p_j: Panel object\n",
    "        Panel from which the contribution is calculated.\n",
    "    \n",
    "    Returns\n",
    "    -------\n",
    "    Integral over the panel at the center point of the other.\n",
    "    \"\"\"\n",
    "    def integrand(s):\n",
    "        return ( (+(p_i.xc-(p_j.xa-math.sin(p_j.beta)*s))*math.cos(p_i.beta)\n",
    "                  +(p_i.yc-(p_j.ya+math.cos(p_j.beta)*s))*math.sin(p_i.beta))\n",
    "                /((p_i.xc-(p_j.xa-math.sin(p_j.beta)*s))**2\n",
    "                  +(p_i.yc-(p_j.ya+math.cos(p_j.beta)*s))**2) )\n",
    "    return integrate.quad(integrand, 0.0, p_j.length)[0]"
   ]
  },
  {
   "cell_type": "markdown",
   "metadata": {},
   "source": [
    "### Решение системы линейных уравнений"
   ]
  },
  {
   "cell_type": "markdown",
   "metadata": {},
   "source": [
    "Мы только что вывели уравнение, обеспечивающее выполнение условия непротекания на $i$-ой панели. У нас `N_panels` таких панелей, а значит `N_panels` неизвестных интенсивностей $\\sigma_i$. Таким образом, задача сводится к решению системы линейных уравнений:\n",
    "\n",
    "$$[A][\\sigma] = [b]$$\n",
    "\n",
    "где\n",
    "\n",
    "$$A_{ij} = \\begin{cases}\n",
    "\\begin{matrix}\n",
    "\\frac{1}{2} & \\mbox{, если } i=j \\cr\n",
    "\\frac{1}{2\\pi} \\int \\frac{\n",
    "\\left(x_{c_i}-x_j(s_j)\\right) \\cos\\beta_i\n",
    "+ \\left(y_{c_i}-y_j(s_j)\\right) \\sin\\beta_i\n",
    "}\n",
    "{\\left(x_{c_i}-x_j(s)\\right)^2 + \\left(y_{c_i}-y_j(s)\\right)^2} ds_j & \\mbox{, если } i\\neq j\n",
    "\\end{matrix}\n",
    "\\end{cases}$$\n",
    "\n",
    "и\n",
    "\n",
    "$$b_i = - U_\\infty \\cos\\beta_i$$\n",
    "\n",
    "для $1\\leq i,j \\leq N_p$. Заполним матрицу $A$ и столбец правых частей $b$ нужными значениями:"
   ]
  },
  {
   "cell_type": "code",
   "execution_count": 7,
   "metadata": {},
   "outputs": [],
   "source": [
    "# вычисляем матрицу влияния источников\n",
    "A = numpy.empty((N_panels, N_panels), dtype=float)\n",
    "numpy.fill_diagonal(A, 0.5)\n",
    "\n",
    "for i, p_i in enumerate(panels):\n",
    "    for j, p_j in enumerate(panels):\n",
    "        if i != j:\n",
    "            A[i,j] = 0.5/math.pi*integral_normal(p_i, p_j)\n",
    "\n",
    "# вычисляем правую столбец правой части системы уравнений\n",
    "b = - u_inf * numpy.cos([p.beta for p in panels])"
   ]
  },
  {
   "cell_type": "markdown",
   "metadata": {},
   "source": [
    "Вуаля! Мы только что воспользовались новой (для нас) встроенной функцией  [enumerate()](https://docs.python.org/2/library/functions.html#enumerate). С ее помощью мы получаем доступ к каждому элементу `panel` массива `panels`, отслеживая его порядковый номер `i` (начинается с `0`), что позволяет нам выбрать соответствующий элемент `A` для его заполнения."
   ]
  },
  {
   "cell_type": "markdown",
   "metadata": {},
   "source": [
    "Теперь можно с легкостью решить систему линейных уравнений при помощи функции [`linalg.solve()`](http://docs.scipy.org/doc/numpy/reference/generated/numpy.linalg.solve.html) из библиотеки NumPy, и приписать каждой панели источников нужную интенсивность:"
   ]
  },
  {
   "cell_type": "code",
   "execution_count": 8,
   "metadata": {},
   "outputs": [],
   "source": [
    "# решаем систему линейных уравнений\n",
    "sigma = numpy.linalg.solve(A, b)\n",
    "\n",
    "for i, panel in enumerate(panels):\n",
    "    panel.sigma = sigma[i]"
   ]
  },
  {
   "cell_type": "markdown",
   "metadata": {},
   "source": [
    "### Коэффициент давления на поверхности"
   ]
  },
  {
   "cell_type": "markdown",
   "metadata": {},
   "source": [
    "Теперь у нас есть нужное распределение интенсивностей источников, чтобы рассчитать поле линий тока в окрестности данной геометрии. Полезным измеримым следствием полученного результата является коэффициент давления на поверхности тела.\n",
    "\n",
    "Согласно уравнению Бернулли, коэффициент давления на $i$-ой панели равен\n",
    "\n",
    "$$C_{p_i} = 1-\\left(\\frac{u_{t_i}}{U_\\infty}\\right)^2$$\n",
    "\n",
    "где $u_{t_i}$ — тангенциальная составляющая скорости в центре $i$-ой панели,\n",
    "\n",
    "$$u_{t_i} = \\frac{\\partial}{\\partial t_i}\\left\\lbrace \\phi\\left(x_{c_i},y_{c_i}\\right) \\right\\rbrace$$\n",
    "\n",
    "которую можно получить как\n",
    "\n",
    "$$u_{t_i} = -U_\\infty \\sin\\beta_i + \\sum_{j=1}^{N_p} \\frac{\\sigma_j}{2\\pi} \\int \\frac{\n",
    "\\left(x_{c_i}-x_j(s_j)\\right) \\frac{\\partial x_{c_i}}{\\partial t_i}\n",
    "+ \\left(y_{c_i}-y_j(s_j)\\right) \\frac{\\partial y_{c_i}}{\\partial t_i}\n",
    "}\n",
    "{\\left(x_{c_i}-x_j(s)\\right)^2 + \\left(y_{c_i}-y_j(s)\\right)^2} {\\rm d}s_j$$\n",
    "\n",
    "учитывая, что\n",
    "\n",
    "$$\\frac{\\partial x_{c_i}}{\\partial t_i} = -\\sin\\beta_i \\quad\\text{and} \\quad \\frac{\\partial y_{c_i}}{\\partial t_i} = \\cos\\beta_i$$\n",
    "\n",
    "Примем во внимание, что вклад от касательной компоненты скорости на выбранной панели от собственного потенциала скорости равен нулю, поскольку линии тока истекают из источника *наружу*.\n",
    "\n",
    "Определим функцию `integral_tangential()`, которая вычислит полученный интеграл, опять используя `integrate.quad()`:"
   ]
  },
  {
   "cell_type": "code",
   "execution_count": 9,
   "metadata": {},
   "outputs": [],
   "source": [
    "def integral_tangential(p_i, p_j):\n",
    "    \"\"\"\n",
    "    Evaluates the contribution of a panel at the center-point of another,\n",
    "    in the tangential direction.\n",
    "    \n",
    "    Parameters\n",
    "    ----------\n",
    "    p_i: Panel object\n",
    "        Panel on which the contribution is calculated.\n",
    "    p_j: Panel object\n",
    "        Panel from which the contribution is calculated.\n",
    "    \n",
    "    Returns\n",
    "    -------\n",
    "    Integral over the panel at the center point of the other.\n",
    "    \"\"\"\n",
    "    def integrand(s):\n",
    "        return ( (-(p_i.xc-(p_j.xa-math.sin(p_j.beta)*s))*math.sin(p_i.beta)\n",
    "                  +(p_i.yc-(p_j.ya+math.cos(p_j.beta)*s))*math.cos(p_i.beta))\n",
    "                /((p_i.xc-(p_j.xa-math.sin(p_j.beta)*s))**2\n",
    "                  +(p_i.yc-(p_j.ya+math.cos(p_j.beta)*s))**2) )\n",
    "    return integrate.quad(integrand, 0.0, p_j.length)[0]"
   ]
  },
  {
   "cell_type": "code",
   "execution_count": 10,
   "metadata": {},
   "outputs": [],
   "source": [
    "# вычисляем матрицу системы линейных уравнений\n",
    "A = numpy.empty((N_panels, N_panels), dtype=float)\n",
    "numpy.fill_diagonal(A, 0.0)\n",
    "\n",
    "for i, p_i in enumerate(panels):\n",
    "    for j, p_j in enumerate(panels):\n",
    "        if i != j:\n",
    "            A[i,j] = 0.5/math.pi*integral_tangential(p_i, p_j)\n",
    "\n",
    "# вычисляем столбец -- правую часть\n",
    "b = - u_inf * numpy.sin([panel.beta for panel in panels])\n",
    "\n",
    "# вычисляем касательную скорость в центрах панелей\n",
    "vt = numpy.dot(A, sigma) + b\n",
    "\n",
    "for i, panel in enumerate(panels):\n",
    "    panel.vt = vt[i]"
   ]
  },
  {
   "cell_type": "markdown",
   "metadata": {},
   "source": [
    "Теперь, когда мы вычислили касательную компоненту скорости на каждой панели, можно рассчитать коэффициент давления."
   ]
  },
  {
   "cell_type": "code",
   "execution_count": 11,
   "metadata": {},
   "outputs": [],
   "source": [
    "# рассчитываем коэффициент давления\n",
    "for panel in panels:\n",
    "    panel.cp = 1.0 - (panel.vt/u_inf)**2"
   ]
  },
  {
   "cell_type": "markdown",
   "metadata": {},
   "source": [
    "Отлично! Пора рисовать график распределения коэффициента давления.\n",
    "\n",
    "Но перед этим вспомним, что на занятии, посвященном [диполю](03_Lesson03_doublet.ipynb), мы получили, что точное значение коэффициента давления на поверхности цилиндра равно\n",
    "\n",
    "$$Cp = 1 - 4\\sin^2 \\theta$$\n",
    "\n",
    "то есть\n",
    "\n",
    "$$Cp = 1 - 4\\left(\\frac{y}{R}\\right)^2$$\n",
    "\n",
    "Это можно использовать для сравнения с результатом, полученным при помощи нашего панельного метода."
   ]
  },
  {
   "cell_type": "code",
   "execution_count": 12,
   "metadata": {},
   "outputs": [
    {
     "data": {
      "image/png": "[encoded data removed]",
      "text/plain": [
       "<matplotlib.figure.Figure at 0x180c30ad860>"
      ]
     },
     "metadata": {},
     "output_type": "display_data"
    }
   ],
   "source": [
    "# вычисляем аналитическое значение коэффициента давления на цилиндре\n",
    "cp_analytical = 1.0 - 4*(y_cylinder/R)**2\n",
    "\n",
    "# рисуем распределение коэффициента давления на поверхности\n",
    "pyplot.figure(figsize=(10, 6))\n",
    "pyplot.grid()\n",
    "pyplot.xlabel('x', fontsize=16)\n",
    "pyplot.ylabel('$C_p$', fontsize=16)\n",
    "pyplot.plot(x_cylinder, cp_analytical,\n",
    "            label='Точное решение',\n",
    "            color='b', linestyle='-', linewidth=1, zorder=1)\n",
    "pyplot.scatter([p.xc for p in panels], [p.cp for p in panels],\n",
    "               label='Панельный метод источников',\n",
    "               color='#CD2305', s=40, zorder=2)\n",
    "pyplot.title('Число панелей : %d' % N_panels, fontsize=16)\n",
    "pyplot.legend(loc='best', prop={'size':16})\n",
    "pyplot.xlim(-1.0, 1.0)\n",
    "pyplot.ylim(-4.0, 2.0);"
   ]
  },
  {
   "cell_type": "markdown",
   "metadata": {},
   "source": [
    "##### Контрольное задание"
   ]
  },
  {
   "cell_type": "markdown",
   "metadata": {},
   "source": [
    "Теперь, когда мы вычислили коэффициент давления на поверхности цилиндра, было бы интересно узнать, как ведут себя линии тока.\n",
    "\n",
    "Для этого воспользуемся функцией `streamplot()` библиотеки Matplotlib, которой требуются декартовы компоненты скорости (`u`,`v`) в узлах расчетной сетки (`X`,`Y`). Поэтому, первый шаг — это вывести уравнения для компонент скорости.\n",
    "\n",
    "Потенциал $N_p$ слоев источников в равномерном потоке в точке $\\left(x,y\\right)$ задается формулой\n",
    "\n",
    "$$\\phi\\left(x,y\\right) = U_\\infty x + \\sum_{j=1}^{N_p} \\frac{\\sigma_j}{4\\pi} \\int \\ln \\left( \\left(x-x_j(s_j)\\right)^2 + \\left(y-y_j(s_j)\\right)^2 \\right) {\\rm d}s_j$$\n",
    "\n",
    "А поле скоростей в точке $\\left(x,y\\right)$:\n",
    "\n",
    "$$u\\left(x,y\\right) = \\frac{\\partial}{\\partial x}\\left\\lbrace \\phi\\left(x,y\\right) \\right\\rbrace$$\n",
    "\n",
    "$$v\\left(x,y\\right) = \\frac{\\partial}{\\partial y}\\left\\lbrace \\phi\\left(x,y\\right) \\right\\rbrace$$\n",
    "\n",
    "Ваша задача:\n",
    "\n",
    "* определить компоненты скорости в декартовой системе координат\n",
    "* создать сетку\n",
    "* вычислить поле скоростей в каждом узле сетки\n",
    "* нарисовать результат\n",
    "* изменить количество панелей для улучшения визуализации"
   ]
  },
  {
   "cell_type": "markdown",
   "metadata": {},
   "source": [
    "---"
   ]
  },
  {
   "cell_type": "raw",
   "metadata": {},
   "source": [
    "Пожалуйста, не обращайте внимания на ячейку ниже. При её исполнении загружаются стили для отображения блокнота."
   ]
  },
  {
   "cell_type": "code",
   "execution_count": 13,
   "metadata": {},
   "outputs": [
    {
     "data": {
      "text/html": [
       "<link href='http://fonts.googleapis.com/css?family=PT+Serif' rel='stylesheet' type='text/css'>\n",
       "<link href='http://fonts.googleapis.com/css?family=Alegreya+Sans:100,300,400,500,700,800,900,100italic,300italic,400italic,500italic,700italic,800italic,900italic' rel='stylesheet' type='text/css'>\n",
       "<link href='http://fonts.googleapis.com/css?family=Source+Code+Pro:300,400' rel='stylesheet' type='text/css'>\n",
       "<style>\n",
       "\n",
       "@font-face {\n",
       "    font-family: \"Computer Modern\";\n",
       "    src: url('http://mirrors.ctan.org/fonts/cm-unicode/fonts/otf/cmunss.otf');\n",
       "}\n",
       "\n",
       "\n",
       "#notebook_panel { /* main background */\n",
       "    background: rgb(245,245,245);\n",
       "}\n",
       "\n",
       "div.cell { /* set cell width */\n",
       "    width: 750px;\n",
       "}\n",
       "\n",
       "div #notebook { /* centre the content */\n",
       "    background: #fff; /* white background for content */\n",
       "    width: 1000px;\n",
       "    margin: auto;\n",
       "    padding-left: 0em;\n",
       "}\n",
       "\n",
       "#notebook li { /* More space between bullet points */\n",
       "margin-top:0.8em;\n",
       "}\n",
       "\n",
       "/* draw border around running cells */\n",
       "div.cell.border-box-sizing.code_cell.running { \n",
       "    border: 1px solid #111;\n",
       "}\n",
       "\n",
       "/* Put a solid color box around each cell and its output, visually linking them*/\n",
       "div.cell.code_cell {\n",
       "    background-color: rgb(256,256,256); \n",
       "    border-radius: 0px; \n",
       "    padding: 0.5em;\n",
       "    margin-left:1em;\n",
       "    margin-top: 1em;\n",
       "}\n",
       "\n",
       "\n",
       "div.text_cell_render{\n",
       "    font-family: 'Alegreya Sans', sans-serif;\n",
       "    line-height: 140%;\n",
       "    font-size: 125%;\n",
       "    font-weight: 400;\n",
       "    width:600px;\n",
       "    margin-left:auto;\n",
       "    margin-right:auto;\n",
       "}\n",
       "\n",
       "/* Formatting for header cells */\n",
       ".text_cell_render h1 {\n",
       "    font-family: 'Alegreya Sans', sans-serif;\n",
       "    font-style:regular;\n",
       "    font-weight: 200;    \n",
       "    font-size: 50pt;\n",
       "    line-height: 100%;\n",
       "    color:#CD2305;\n",
       "    margin-bottom: 0.5em;\n",
       "    margin-top: 0.5em;\n",
       "    display: block;\n",
       "}\t\n",
       ".text_cell_render h2 {\n",
       "    font-family: 'PT Serif', serif;\n",
       "    font-size: 22pt;\n",
       "    line-height: 100%;\n",
       "    margin-bottom: 0.1em;\n",
       "    margin-top: 0.3em;\n",
       "    display: block;\n",
       "}\t\n",
       "\n",
       ".text_cell_render h3 {\n",
       "    font-family: 'PT Serif', serif;\n",
       "    margin-top:12px;\n",
       "\tfont-size: 16pt;\n",
       "    margin-bottom: 3px;\n",
       "    font-style: regular;\n",
       "}\n",
       "\n",
       ".text_cell_render h4 {    /*Use this for captions*/\n",
       "    font-family: 'PT Serif', serif;\n",
       "    font-size: 12pt;\n",
       "    text-align: center;\n",
       "    margin-top: 0em;\n",
       "    margin-bottom: 2em;\n",
       "    font-style: regular;\n",
       "}\n",
       "\n",
       ".text_cell_render h5 {  /*Use this for small titles*/\n",
       "    font-family: 'Alegreya Sans', sans-serif;\n",
       "    font-weight: 300;\n",
       "    font-size: 16pt;\n",
       "    color: #CD2305;\n",
       "    font-style: italic;\n",
       "    margin-bottom: .5em;\n",
       "    margin-top: 0.5em;\n",
       "    display: block;\n",
       "}\n",
       "\n",
       ".text_cell_render h6 { /*use this for copyright note*/\n",
       "    font-family: 'Source Code Pro', sans-serif;\n",
       "    font-weight: 300;\n",
       "    font-size: 9pt;\n",
       "    line-height: 100%;\n",
       "    color: grey;\n",
       "    margin-bottom: 1px;\n",
       "    margin-top: 1px;\n",
       "}\n",
       "\n",
       "    .CodeMirror{\n",
       "            font-family: \"Consolas\";\n",
       "\t\t\tfont-size: 110%;\n",
       "    }\n",
       "/*    .prompt{\n",
       "        display: None;\n",
       "    }*/\n",
       "\t\n",
       "    \n",
       "    .warning{\n",
       "        color: rgb( 240, 20, 20 )\n",
       "        }  \n",
       "</style>\n",
       "<script>\n",
       "    MathJax.Hub.Config({\n",
       "                        TeX: {\n",
       "                           extensions: [\"AMSmath.js\"], \n",
       "                           equationNumbers: { autoNumber: \"AMS\", useLabelIds: true}\n",
       "                           },\n",
       "                tex2jax: {\n",
       "                    inlineMath: [ ['$','$'], [\"\\\\(\",\"\\\\)\"] ],\n",
       "                    displayMath: [ ['$$','$$'], [\"\\\\[\",\"\\\\]\"] ]\n",
       "                },\n",
       "                displayAlign: 'center', // Change this to 'center' to center equations.\n",
       "                \"HTML-CSS\": {\n",
       "                    styles: {'.MathJax_Display': {\"margin\": 4}}\n",
       "                }\n",
       "        });\n",
       "</script>\n"
      ],
      "text/plain": [
       "<IPython.core.display.HTML object>"
      ]
     },
     "execution_count": 13,
     "metadata": {},
     "output_type": "execute_result"
    }
   ],
   "source": [
    "from IPython.core.display import HTML\n",
    "def css_styling():\n",
    "    styles = open('../styles/custom.css', 'r').read()\n",
    "    return HTML(styles)\n",
    "css_styling()"
   ]
  }
 ],
 "metadata": {
  "kernelspec": {
   "display_name": "Python 3",
   "language": "python",
   "name": "python3"
  },
  "language_info": {
   "codemirror_mode": {
    "name": "ipython",
    "version": 3
   },
   "file_extension": ".py",
   "mimetype": "text/x-python",
   "name": "python",
   "nbconvert_exporter": "python",
   "pygments_lexer": "ipython3",
   "version": "3.6.4"
  }
 },
 "nbformat": 4,
 "nbformat_minor": 1
}
